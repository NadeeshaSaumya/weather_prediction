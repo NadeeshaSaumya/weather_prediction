{
 "cells": [
  {
   "cell_type": "code",
   "execution_count": 1,
   "id": "50096eed",
   "metadata": {},
   "outputs": [],
   "source": [
    "#import libraries\n",
    "import numpy as np\n",
    "import pandas as pd"
   ]
  },
  {
   "cell_type": "code",
   "execution_count": 2,
   "id": "01800044",
   "metadata": {},
   "outputs": [
    {
     "data": {
      "text/html": [
       "<div>\n",
       "<style scoped>\n",
       "    .dataframe tbody tr th:only-of-type {\n",
       "        vertical-align: middle;\n",
       "    }\n",
       "\n",
       "    .dataframe tbody tr th {\n",
       "        vertical-align: top;\n",
       "    }\n",
       "\n",
       "    .dataframe thead th {\n",
       "        text-align: right;\n",
       "    }\n",
       "</style>\n",
       "<table border=\"1\" class=\"dataframe\">\n",
       "  <thead>\n",
       "    <tr style=\"text-align: right;\">\n",
       "      <th></th>\n",
       "      <th>date</th>\n",
       "      <th>precipitation</th>\n",
       "      <th>temp_max</th>\n",
       "      <th>temp_min</th>\n",
       "      <th>wind</th>\n",
       "      <th>weather</th>\n",
       "    </tr>\n",
       "  </thead>\n",
       "  <tbody>\n",
       "    <tr>\n",
       "      <th>0</th>\n",
       "      <td>2012-01-01</td>\n",
       "      <td>0.0</td>\n",
       "      <td>12.8</td>\n",
       "      <td>5.0</td>\n",
       "      <td>4.7</td>\n",
       "      <td>drizzle</td>\n",
       "    </tr>\n",
       "    <tr>\n",
       "      <th>1</th>\n",
       "      <td>2012-01-02</td>\n",
       "      <td>10.9</td>\n",
       "      <td>10.6</td>\n",
       "      <td>2.8</td>\n",
       "      <td>4.5</td>\n",
       "      <td>rain</td>\n",
       "    </tr>\n",
       "    <tr>\n",
       "      <th>2</th>\n",
       "      <td>2012-01-03</td>\n",
       "      <td>0.8</td>\n",
       "      <td>11.7</td>\n",
       "      <td>7.2</td>\n",
       "      <td>2.3</td>\n",
       "      <td>rain</td>\n",
       "    </tr>\n",
       "    <tr>\n",
       "      <th>3</th>\n",
       "      <td>2012-01-04</td>\n",
       "      <td>20.3</td>\n",
       "      <td>12.2</td>\n",
       "      <td>5.6</td>\n",
       "      <td>4.7</td>\n",
       "      <td>rain</td>\n",
       "    </tr>\n",
       "    <tr>\n",
       "      <th>4</th>\n",
       "      <td>2012-01-05</td>\n",
       "      <td>1.3</td>\n",
       "      <td>8.9</td>\n",
       "      <td>2.8</td>\n",
       "      <td>6.1</td>\n",
       "      <td>rain</td>\n",
       "    </tr>\n",
       "    <tr>\n",
       "      <th>...</th>\n",
       "      <td>...</td>\n",
       "      <td>...</td>\n",
       "      <td>...</td>\n",
       "      <td>...</td>\n",
       "      <td>...</td>\n",
       "      <td>...</td>\n",
       "    </tr>\n",
       "    <tr>\n",
       "      <th>1456</th>\n",
       "      <td>2015-12-27</td>\n",
       "      <td>8.6</td>\n",
       "      <td>4.4</td>\n",
       "      <td>1.7</td>\n",
       "      <td>2.9</td>\n",
       "      <td>rain</td>\n",
       "    </tr>\n",
       "    <tr>\n",
       "      <th>1457</th>\n",
       "      <td>2015-12-28</td>\n",
       "      <td>1.5</td>\n",
       "      <td>5.0</td>\n",
       "      <td>1.7</td>\n",
       "      <td>1.3</td>\n",
       "      <td>rain</td>\n",
       "    </tr>\n",
       "    <tr>\n",
       "      <th>1458</th>\n",
       "      <td>2015-12-29</td>\n",
       "      <td>0.0</td>\n",
       "      <td>7.2</td>\n",
       "      <td>0.6</td>\n",
       "      <td>2.6</td>\n",
       "      <td>fog</td>\n",
       "    </tr>\n",
       "    <tr>\n",
       "      <th>1459</th>\n",
       "      <td>2015-12-30</td>\n",
       "      <td>0.0</td>\n",
       "      <td>5.6</td>\n",
       "      <td>-1.0</td>\n",
       "      <td>3.4</td>\n",
       "      <td>sun</td>\n",
       "    </tr>\n",
       "    <tr>\n",
       "      <th>1460</th>\n",
       "      <td>2015-12-31</td>\n",
       "      <td>0.0</td>\n",
       "      <td>5.6</td>\n",
       "      <td>-2.1</td>\n",
       "      <td>3.5</td>\n",
       "      <td>sun</td>\n",
       "    </tr>\n",
       "  </tbody>\n",
       "</table>\n",
       "<p>1461 rows × 6 columns</p>\n",
       "</div>"
      ],
      "text/plain": [
       "            date  precipitation  temp_max  temp_min  wind  weather\n",
       "0     2012-01-01            0.0      12.8       5.0   4.7  drizzle\n",
       "1     2012-01-02           10.9      10.6       2.8   4.5     rain\n",
       "2     2012-01-03            0.8      11.7       7.2   2.3     rain\n",
       "3     2012-01-04           20.3      12.2       5.6   4.7     rain\n",
       "4     2012-01-05            1.3       8.9       2.8   6.1     rain\n",
       "...          ...            ...       ...       ...   ...      ...\n",
       "1456  2015-12-27            8.6       4.4       1.7   2.9     rain\n",
       "1457  2015-12-28            1.5       5.0       1.7   1.3     rain\n",
       "1458  2015-12-29            0.0       7.2       0.6   2.6      fog\n",
       "1459  2015-12-30            0.0       5.6      -1.0   3.4      sun\n",
       "1460  2015-12-31            0.0       5.6      -2.1   3.5      sun\n",
       "\n",
       "[1461 rows x 6 columns]"
      ]
     },
     "execution_count": 2,
     "metadata": {},
     "output_type": "execute_result"
    }
   ],
   "source": [
    "#import csv file to dataframe\n",
    "df = pd.read_csv('seattle-weather.csv')\n",
    "df"
   ]
  },
  {
   "cell_type": "code",
   "execution_count": 3,
   "id": "24d3f1e5",
   "metadata": {},
   "outputs": [
    {
     "data": {
      "text/plain": [
       "date              object\n",
       "precipitation    float64\n",
       "temp_max         float64\n",
       "temp_min         float64\n",
       "wind             float64\n",
       "weather           object\n",
       "dtype: object"
      ]
     },
     "execution_count": 3,
     "metadata": {},
     "output_type": "execute_result"
    }
   ],
   "source": [
    "df.dtypes"
   ]
  },
  {
   "cell_type": "markdown",
   "id": "7e6d7420",
   "metadata": {},
   "source": [
    "### 1.identify missing values"
   ]
  },
  {
   "cell_type": "code",
   "execution_count": 4,
   "id": "e9fd997d",
   "metadata": {},
   "outputs": [
    {
     "data": {
      "text/plain": [
       "date             0\n",
       "precipitation    0\n",
       "temp_max         0\n",
       "temp_min         0\n",
       "wind             0\n",
       "weather          0\n",
       "dtype: int64"
      ]
     },
     "execution_count": 4,
     "metadata": {},
     "output_type": "execute_result"
    }
   ],
   "source": [
    "#check null values\n",
    "df.isnull().sum()"
   ]
  },
  {
   "cell_type": "markdown",
   "id": "54b29bda",
   "metadata": {},
   "source": [
    "### 2.identify duplicate values"
   ]
  },
  {
   "cell_type": "code",
   "execution_count": 5,
   "id": "a3bd8a48",
   "metadata": {},
   "outputs": [
    {
     "data": {
      "text/plain": [
       "0"
      ]
     },
     "execution_count": 5,
     "metadata": {},
     "output_type": "execute_result"
    }
   ],
   "source": [
    "df.duplicated().sum()"
   ]
  },
  {
   "cell_type": "code",
   "execution_count": 7,
   "id": "0697e52c",
   "metadata": {},
   "outputs": [
    {
     "data": {
      "text/html": [
       "<div>\n",
       "<style scoped>\n",
       "    .dataframe tbody tr th:only-of-type {\n",
       "        vertical-align: middle;\n",
       "    }\n",
       "\n",
       "    .dataframe tbody tr th {\n",
       "        vertical-align: top;\n",
       "    }\n",
       "\n",
       "    .dataframe thead th {\n",
       "        text-align: right;\n",
       "    }\n",
       "</style>\n",
       "<table border=\"1\" class=\"dataframe\">\n",
       "  <thead>\n",
       "    <tr style=\"text-align: right;\">\n",
       "      <th></th>\n",
       "      <th>precipitation</th>\n",
       "      <th>temp_max</th>\n",
       "      <th>temp_min</th>\n",
       "      <th>wind</th>\n",
       "      <th>weather</th>\n",
       "    </tr>\n",
       "  </thead>\n",
       "  <tbody>\n",
       "    <tr>\n",
       "      <th>0</th>\n",
       "      <td>0.0</td>\n",
       "      <td>12.8</td>\n",
       "      <td>5.0</td>\n",
       "      <td>4.7</td>\n",
       "      <td>drizzle</td>\n",
       "    </tr>\n",
       "    <tr>\n",
       "      <th>1</th>\n",
       "      <td>10.9</td>\n",
       "      <td>10.6</td>\n",
       "      <td>2.8</td>\n",
       "      <td>4.5</td>\n",
       "      <td>rain</td>\n",
       "    </tr>\n",
       "    <tr>\n",
       "      <th>2</th>\n",
       "      <td>0.8</td>\n",
       "      <td>11.7</td>\n",
       "      <td>7.2</td>\n",
       "      <td>2.3</td>\n",
       "      <td>rain</td>\n",
       "    </tr>\n",
       "    <tr>\n",
       "      <th>3</th>\n",
       "      <td>20.3</td>\n",
       "      <td>12.2</td>\n",
       "      <td>5.6</td>\n",
       "      <td>4.7</td>\n",
       "      <td>rain</td>\n",
       "    </tr>\n",
       "    <tr>\n",
       "      <th>4</th>\n",
       "      <td>1.3</td>\n",
       "      <td>8.9</td>\n",
       "      <td>2.8</td>\n",
       "      <td>6.1</td>\n",
       "      <td>rain</td>\n",
       "    </tr>\n",
       "    <tr>\n",
       "      <th>...</th>\n",
       "      <td>...</td>\n",
       "      <td>...</td>\n",
       "      <td>...</td>\n",
       "      <td>...</td>\n",
       "      <td>...</td>\n",
       "    </tr>\n",
       "    <tr>\n",
       "      <th>1456</th>\n",
       "      <td>8.6</td>\n",
       "      <td>4.4</td>\n",
       "      <td>1.7</td>\n",
       "      <td>2.9</td>\n",
       "      <td>rain</td>\n",
       "    </tr>\n",
       "    <tr>\n",
       "      <th>1457</th>\n",
       "      <td>1.5</td>\n",
       "      <td>5.0</td>\n",
       "      <td>1.7</td>\n",
       "      <td>1.3</td>\n",
       "      <td>rain</td>\n",
       "    </tr>\n",
       "    <tr>\n",
       "      <th>1458</th>\n",
       "      <td>0.0</td>\n",
       "      <td>7.2</td>\n",
       "      <td>0.6</td>\n",
       "      <td>2.6</td>\n",
       "      <td>fog</td>\n",
       "    </tr>\n",
       "    <tr>\n",
       "      <th>1459</th>\n",
       "      <td>0.0</td>\n",
       "      <td>5.6</td>\n",
       "      <td>-1.0</td>\n",
       "      <td>3.4</td>\n",
       "      <td>sun</td>\n",
       "    </tr>\n",
       "    <tr>\n",
       "      <th>1460</th>\n",
       "      <td>0.0</td>\n",
       "      <td>5.6</td>\n",
       "      <td>-2.1</td>\n",
       "      <td>3.5</td>\n",
       "      <td>sun</td>\n",
       "    </tr>\n",
       "  </tbody>\n",
       "</table>\n",
       "<p>1461 rows × 5 columns</p>\n",
       "</div>"
      ],
      "text/plain": [
       "      precipitation  temp_max  temp_min  wind  weather\n",
       "0               0.0      12.8       5.0   4.7  drizzle\n",
       "1              10.9      10.6       2.8   4.5     rain\n",
       "2               0.8      11.7       7.2   2.3     rain\n",
       "3              20.3      12.2       5.6   4.7     rain\n",
       "4               1.3       8.9       2.8   6.1     rain\n",
       "...             ...       ...       ...   ...      ...\n",
       "1456            8.6       4.4       1.7   2.9     rain\n",
       "1457            1.5       5.0       1.7   1.3     rain\n",
       "1458            0.0       7.2       0.6   2.6      fog\n",
       "1459            0.0       5.6      -1.0   3.4      sun\n",
       "1460            0.0       5.6      -2.1   3.5      sun\n",
       "\n",
       "[1461 rows x 5 columns]"
      ]
     },
     "execution_count": 7,
     "metadata": {},
     "output_type": "execute_result"
    }
   ],
   "source": [
    "df1 = df.drop(['date'],axis = 1)\n",
    "df1"
   ]
  },
  {
   "cell_type": "code",
   "execution_count": 8,
   "id": "461cc5fe",
   "metadata": {},
   "outputs": [
    {
     "data": {
      "text/plain": [
       "(1461, 5)"
      ]
     },
     "execution_count": 8,
     "metadata": {},
     "output_type": "execute_result"
    }
   ],
   "source": [
    "df1.shape"
   ]
  },
  {
   "cell_type": "markdown",
   "id": "0242ce88",
   "metadata": {},
   "source": [
    "### 3. identify outliers"
   ]
  },
  {
   "cell_type": "code",
   "execution_count": 9,
   "id": "fa897bca",
   "metadata": {},
   "outputs": [
    {
     "data": {
      "text/plain": [
       "<AxesSubplot:>"
      ]
     },
     "execution_count": 9,
     "metadata": {},
     "output_type": "execute_result"
    },
    {
     "data": {
      "image/png": "[encoded data removed]",
      "text/plain": [
       "<Figure size 432x288 with 1 Axes>"
      ]
     },
     "metadata": {
      "needs_background": "light"
     },
     "output_type": "display_data"
    }
   ],
   "source": [
    "df1.iloc[:,:].boxplot() # see the out lyers using boxplot\n"
   ]
  },
  {
   "cell_type": "code",
   "execution_count": 10,
   "id": "d6ce821e",
   "metadata": {},
   "outputs": [
    {
     "data": {
      "text/plain": [
       "precipitation     0.0\n",
       "temp_max         10.6\n",
       "temp_min          4.4\n",
       "wind              2.2\n",
       "Name: 0.25, dtype: float64"
      ]
     },
     "execution_count": 10,
     "metadata": {},
     "output_type": "execute_result"
    }
   ],
   "source": [
    "Q1 = df1.quantile(0.25)\n",
    "Q3 = df1.quantile(0.75)\n",
    "Q1"
   ]
  },
  {
   "cell_type": "code",
   "execution_count": 11,
   "id": "35983fae",
   "metadata": {},
   "outputs": [],
   "source": [
    "IQR = Q3-Q1"
   ]
  },
  {
   "cell_type": "code",
   "execution_count": 12,
   "id": "f8295e3d",
   "metadata": {},
   "outputs": [
    {
     "name": "stderr",
     "output_type": "stream",
     "text": [
      "<ipython-input-12-53b9030ee849>:2: FutureWarning: Automatic reindexing on DataFrame vs Series comparisons is deprecated and will raise ValueError in a future version.  Do `left, right = left.align(right, axis=1, copy=False)` before e.g. `left == right`\n",
      "  Out_row = ((df1<(Q1-1.5*IQR))|(df1>(Q3+1.5*IQR))).any(axis=1)\n",
      "<ipython-input-12-53b9030ee849>:2: FutureWarning: Automatic reindexing on DataFrame vs Series comparisons is deprecated and will raise ValueError in a future version.  Do `left, right = left.align(right, axis=1, copy=False)` before e.g. `left == right`\n",
      "  Out_row = ((df1<(Q1-1.5*IQR))|(df1>(Q3+1.5*IQR))).any(axis=1)\n"
     ]
    },
    {
     "data": {
      "text/plain": [
       "0       False\n",
       "1        True\n",
       "2       False\n",
       "3        True\n",
       "4       False\n",
       "        ...  \n",
       "1456     True\n",
       "1457    False\n",
       "1458    False\n",
       "1459    False\n",
       "1460    False\n",
       "Length: 1461, dtype: bool"
      ]
     },
     "execution_count": 12,
     "metadata": {},
     "output_type": "execute_result"
    }
   ],
   "source": [
    "# get the outlier row index as true\n",
    "Out_row = ((df1<(Q1-1.5*IQR))|(df1>(Q3+1.5*IQR))).any(axis=1)\n",
    "Out_row"
   ]
  },
  {
   "cell_type": "code",
   "execution_count": 13,
   "id": "f1f3160f",
   "metadata": {},
   "outputs": [
    {
     "data": {
      "text/html": [
       "<div>\n",
       "<style scoped>\n",
       "    .dataframe tbody tr th:only-of-type {\n",
       "        vertical-align: middle;\n",
       "    }\n",
       "\n",
       "    .dataframe tbody tr th {\n",
       "        vertical-align: top;\n",
       "    }\n",
       "\n",
       "    .dataframe thead th {\n",
       "        text-align: right;\n",
       "    }\n",
       "</style>\n",
       "<table border=\"1\" class=\"dataframe\">\n",
       "  <thead>\n",
       "    <tr style=\"text-align: right;\">\n",
       "      <th></th>\n",
       "      <th>precipitation</th>\n",
       "      <th>temp_max</th>\n",
       "      <th>temp_min</th>\n",
       "      <th>wind</th>\n",
       "      <th>weather</th>\n",
       "    </tr>\n",
       "  </thead>\n",
       "  <tbody>\n",
       "    <tr>\n",
       "      <th>0</th>\n",
       "      <td>0.0</td>\n",
       "      <td>12.8</td>\n",
       "      <td>5.0</td>\n",
       "      <td>4.7</td>\n",
       "      <td>drizzle</td>\n",
       "    </tr>\n",
       "    <tr>\n",
       "      <th>2</th>\n",
       "      <td>0.8</td>\n",
       "      <td>11.7</td>\n",
       "      <td>7.2</td>\n",
       "      <td>2.3</td>\n",
       "      <td>rain</td>\n",
       "    </tr>\n",
       "    <tr>\n",
       "      <th>4</th>\n",
       "      <td>1.3</td>\n",
       "      <td>8.9</td>\n",
       "      <td>2.8</td>\n",
       "      <td>6.1</td>\n",
       "      <td>rain</td>\n",
       "    </tr>\n",
       "    <tr>\n",
       "      <th>5</th>\n",
       "      <td>2.5</td>\n",
       "      <td>4.4</td>\n",
       "      <td>2.2</td>\n",
       "      <td>2.2</td>\n",
       "      <td>rain</td>\n",
       "    </tr>\n",
       "    <tr>\n",
       "      <th>6</th>\n",
       "      <td>0.0</td>\n",
       "      <td>7.2</td>\n",
       "      <td>2.8</td>\n",
       "      <td>2.3</td>\n",
       "      <td>rain</td>\n",
       "    </tr>\n",
       "    <tr>\n",
       "      <th>...</th>\n",
       "      <td>...</td>\n",
       "      <td>...</td>\n",
       "      <td>...</td>\n",
       "      <td>...</td>\n",
       "      <td>...</td>\n",
       "    </tr>\n",
       "    <tr>\n",
       "      <th>1455</th>\n",
       "      <td>0.0</td>\n",
       "      <td>4.4</td>\n",
       "      <td>0.0</td>\n",
       "      <td>2.5</td>\n",
       "      <td>sun</td>\n",
       "    </tr>\n",
       "    <tr>\n",
       "      <th>1457</th>\n",
       "      <td>1.5</td>\n",
       "      <td>5.0</td>\n",
       "      <td>1.7</td>\n",
       "      <td>1.3</td>\n",
       "      <td>rain</td>\n",
       "    </tr>\n",
       "    <tr>\n",
       "      <th>1458</th>\n",
       "      <td>0.0</td>\n",
       "      <td>7.2</td>\n",
       "      <td>0.6</td>\n",
       "      <td>2.6</td>\n",
       "      <td>fog</td>\n",
       "    </tr>\n",
       "    <tr>\n",
       "      <th>1459</th>\n",
       "      <td>0.0</td>\n",
       "      <td>5.6</td>\n",
       "      <td>-1.0</td>\n",
       "      <td>3.4</td>\n",
       "      <td>sun</td>\n",
       "    </tr>\n",
       "    <tr>\n",
       "      <th>1460</th>\n",
       "      <td>0.0</td>\n",
       "      <td>5.6</td>\n",
       "      <td>-2.1</td>\n",
       "      <td>3.5</td>\n",
       "      <td>sun</td>\n",
       "    </tr>\n",
       "  </tbody>\n",
       "</table>\n",
       "<p>1233 rows × 5 columns</p>\n",
       "</div>"
      ],
      "text/plain": [
       "      precipitation  temp_max  temp_min  wind  weather\n",
       "0               0.0      12.8       5.0   4.7  drizzle\n",
       "2               0.8      11.7       7.2   2.3     rain\n",
       "4               1.3       8.9       2.8   6.1     rain\n",
       "5               2.5       4.4       2.2   2.2     rain\n",
       "6               0.0       7.2       2.8   2.3     rain\n",
       "...             ...       ...       ...   ...      ...\n",
       "1455            0.0       4.4       0.0   2.5      sun\n",
       "1457            1.5       5.0       1.7   1.3     rain\n",
       "1458            0.0       7.2       0.6   2.6      fog\n",
       "1459            0.0       5.6      -1.0   3.4      sun\n",
       "1460            0.0       5.6      -2.1   3.5      sun\n",
       "\n",
       "[1233 rows x 5 columns]"
      ]
     },
     "execution_count": 13,
     "metadata": {},
     "output_type": "execute_result"
    }
   ],
   "source": [
    "#set the correct rows as a ture and get these rows\n",
    "df2 = df1[~Out_row] \n",
    "df2"
   ]
  },
  {
   "cell_type": "code",
   "execution_count": 14,
   "id": "4721ed2f",
   "metadata": {},
   "outputs": [
    {
     "data": {
      "text/plain": [
       "<AxesSubplot:>"
      ]
     },
     "execution_count": 14,
     "metadata": {},
     "output_type": "execute_result"
    },
    {
     "data": {
      "image/png": "[encoded data removed]",
      "text/plain": [
       "<Figure size 432x288 with 1 Axes>"
      ]
     },
     "metadata": {
      "needs_background": "light"
     },
     "output_type": "display_data"
    }
   ],
   "source": [
    "df2.iloc[:,:].boxplot()"
   ]
  },
  {
   "cell_type": "code",
   "execution_count": 15,
   "id": "7814228e",
   "metadata": {},
   "outputs": [
    {
     "data": {
      "text/plain": [
       "(1233, 5)"
      ]
     },
     "execution_count": 15,
     "metadata": {},
     "output_type": "execute_result"
    }
   ],
   "source": [
    "df2.shape"
   ]
  },
  {
   "cell_type": "code",
   "execution_count": 16,
   "id": "9f97f7ae",
   "metadata": {},
   "outputs": [
    {
     "data": {
      "text/html": [
       "<div>\n",
       "<style scoped>\n",
       "    .dataframe tbody tr th:only-of-type {\n",
       "        vertical-align: middle;\n",
       "    }\n",
       "\n",
       "    .dataframe tbody tr th {\n",
       "        vertical-align: top;\n",
       "    }\n",
       "\n",
       "    .dataframe thead th {\n",
       "        text-align: right;\n",
       "    }\n",
       "</style>\n",
       "<table border=\"1\" class=\"dataframe\">\n",
       "  <thead>\n",
       "    <tr style=\"text-align: right;\">\n",
       "      <th></th>\n",
       "      <th>precipitation</th>\n",
       "      <th>temp_max</th>\n",
       "      <th>temp_min</th>\n",
       "      <th>wind</th>\n",
       "    </tr>\n",
       "  </thead>\n",
       "  <tbody>\n",
       "    <tr>\n",
       "      <th>0</th>\n",
       "      <td>0.0</td>\n",
       "      <td>12.8</td>\n",
       "      <td>5.0</td>\n",
       "      <td>4.7</td>\n",
       "    </tr>\n",
       "    <tr>\n",
       "      <th>2</th>\n",
       "      <td>0.8</td>\n",
       "      <td>11.7</td>\n",
       "      <td>7.2</td>\n",
       "      <td>2.3</td>\n",
       "    </tr>\n",
       "    <tr>\n",
       "      <th>4</th>\n",
       "      <td>1.3</td>\n",
       "      <td>8.9</td>\n",
       "      <td>2.8</td>\n",
       "      <td>6.1</td>\n",
       "    </tr>\n",
       "    <tr>\n",
       "      <th>5</th>\n",
       "      <td>2.5</td>\n",
       "      <td>4.4</td>\n",
       "      <td>2.2</td>\n",
       "      <td>2.2</td>\n",
       "    </tr>\n",
       "    <tr>\n",
       "      <th>6</th>\n",
       "      <td>0.0</td>\n",
       "      <td>7.2</td>\n",
       "      <td>2.8</td>\n",
       "      <td>2.3</td>\n",
       "    </tr>\n",
       "    <tr>\n",
       "      <th>...</th>\n",
       "      <td>...</td>\n",
       "      <td>...</td>\n",
       "      <td>...</td>\n",
       "      <td>...</td>\n",
       "    </tr>\n",
       "    <tr>\n",
       "      <th>1455</th>\n",
       "      <td>0.0</td>\n",
       "      <td>4.4</td>\n",
       "      <td>0.0</td>\n",
       "      <td>2.5</td>\n",
       "    </tr>\n",
       "    <tr>\n",
       "      <th>1457</th>\n",
       "      <td>1.5</td>\n",
       "      <td>5.0</td>\n",
       "      <td>1.7</td>\n",
       "      <td>1.3</td>\n",
       "    </tr>\n",
       "    <tr>\n",
       "      <th>1458</th>\n",
       "      <td>0.0</td>\n",
       "      <td>7.2</td>\n",
       "      <td>0.6</td>\n",
       "      <td>2.6</td>\n",
       "    </tr>\n",
       "    <tr>\n",
       "      <th>1459</th>\n",
       "      <td>0.0</td>\n",
       "      <td>5.6</td>\n",
       "      <td>-1.0</td>\n",
       "      <td>3.4</td>\n",
       "    </tr>\n",
       "    <tr>\n",
       "      <th>1460</th>\n",
       "      <td>0.0</td>\n",
       "      <td>5.6</td>\n",
       "      <td>-2.1</td>\n",
       "      <td>3.5</td>\n",
       "    </tr>\n",
       "  </tbody>\n",
       "</table>\n",
       "<p>1233 rows × 4 columns</p>\n",
       "</div>"
      ],
      "text/plain": [
       "      precipitation  temp_max  temp_min  wind\n",
       "0               0.0      12.8       5.0   4.7\n",
       "2               0.8      11.7       7.2   2.3\n",
       "4               1.3       8.9       2.8   6.1\n",
       "5               2.5       4.4       2.2   2.2\n",
       "6               0.0       7.2       2.8   2.3\n",
       "...             ...       ...       ...   ...\n",
       "1455            0.0       4.4       0.0   2.5\n",
       "1457            1.5       5.0       1.7   1.3\n",
       "1458            0.0       7.2       0.6   2.6\n",
       "1459            0.0       5.6      -1.0   3.4\n",
       "1460            0.0       5.6      -2.1   3.5\n",
       "\n",
       "[1233 rows x 4 columns]"
      ]
     },
     "execution_count": 16,
     "metadata": {},
     "output_type": "execute_result"
    }
   ],
   "source": [
    "x = df2.drop(['weather'],axis = 1)\n",
    "x"
   ]
  },
  {
   "cell_type": "code",
   "execution_count": 17,
   "id": "c89b7aeb",
   "metadata": {},
   "outputs": [
    {
     "data": {
      "text/plain": [
       "0       drizzle\n",
       "2          rain\n",
       "4          rain\n",
       "5          rain\n",
       "6          rain\n",
       "         ...   \n",
       "1455        sun\n",
       "1457       rain\n",
       "1458        fog\n",
       "1459        sun\n",
       "1460        sun\n",
       "Name: weather, Length: 1233, dtype: object"
      ]
     },
     "execution_count": 17,
     "metadata": {},
     "output_type": "execute_result"
    }
   ],
   "source": [
    "y = df2['weather']\n",
    "y"
   ]
  },
  {
   "cell_type": "markdown",
   "id": "fa1118a1",
   "metadata": {},
   "source": [
    "### 4. check data imbalance"
   ]
  },
  {
   "cell_type": "code",
   "execution_count": 18,
   "id": "c71b21fb",
   "metadata": {},
   "outputs": [
    {
     "data": {
      "text/plain": [
       "sun        635\n",
       "rain       431\n",
       "fog        101\n",
       "drizzle     53\n",
       "snow        13\n",
       "Name: weather, dtype: int64"
      ]
     },
     "execution_count": 18,
     "metadata": {},
     "output_type": "execute_result"
    }
   ],
   "source": [
    "y.value_counts()"
   ]
  },
  {
   "cell_type": "code",
   "execution_count": 19,
   "id": "b0a2ac79",
   "metadata": {},
   "outputs": [],
   "source": [
    "from imblearn.over_sampling import SMOTE"
   ]
  },
  {
   "cell_type": "code",
   "execution_count": 20,
   "id": "884eda5b",
   "metadata": {},
   "outputs": [],
   "source": [
    "smt = SMOTE()\n",
    "x_sm, y_sm = smt.fit_resample(x, y)"
   ]
  },
  {
   "cell_type": "code",
   "execution_count": 21,
   "id": "0c7f8a91",
   "metadata": {},
   "outputs": [
    {
     "data": {
      "text/plain": [
       "drizzle    635\n",
       "sun        635\n",
       "fog        635\n",
       "snow       635\n",
       "rain       635\n",
       "Name: weather, dtype: int64"
      ]
     },
     "execution_count": 21,
     "metadata": {},
     "output_type": "execute_result"
    }
   ],
   "source": [
    "y_sm.value_counts()"
   ]
  },
  {
   "cell_type": "markdown",
   "id": "33f8a0a3",
   "metadata": {},
   "source": [
    "### 6.parameter tuning"
   ]
  },
  {
   "cell_type": "code",
   "execution_count": 22,
   "id": "ef952935",
   "metadata": {},
   "outputs": [],
   "source": [
    "from sklearn.linear_model import LogisticRegression\n",
    "from sklearn.svm import SVC\n",
    "from sklearn.ensemble import RandomForestClassifier\n",
    "from sklearn.naive_bayes import GaussianNB"
   ]
  },
  {
   "cell_type": "code",
   "execution_count": 23,
   "id": "de5ff414",
   "metadata": {},
   "outputs": [],
   "source": [
    "from sklearn.model_selection import StratifiedKFold\n",
    "folds = StratifiedKFold(n_splits = 10)"
   ]
  },
  {
   "cell_type": "code",
   "execution_count": 24,
   "id": "5fa6e99d",
   "metadata": {},
   "outputs": [],
   "source": [
    "from sklearn.model_selection import GridSearchCV"
   ]
  },
  {
   "cell_type": "code",
   "execution_count": 25,
   "id": "77cbf5c7",
   "metadata": {},
   "outputs": [],
   "source": [
    "params ={'n_estimators':[50,100,150,200,250],'criterion':['gini','entropy']}\n",
    "Tmodel = RandomForestClassifier()"
   ]
  },
  {
   "cell_type": "code",
   "execution_count": 26,
   "id": "4c6c0e46",
   "metadata": {},
   "outputs": [
    {
     "name": "stdout",
     "output_type": "stream",
     "text": [
      "{'criterion': 'entropy', 'n_estimators': 250}\n",
      "0.8743775172112771\n"
     ]
    }
   ],
   "source": [
    "gsearch = GridSearchCV(Tmodel,params,cv=folds) #parameter tuning\n",
    "result = gsearch.fit(x_sm,y_sm)\n",
    "print(result.best_params_)\n",
    "print(result.best_score_)"
   ]
  },
  {
   "cell_type": "code",
   "execution_count": 26,
   "id": "673180ee",
   "metadata": {},
   "outputs": [],
   "source": [
    "paramL = {'C': [1,5,10,15,25,30]}\n",
    "T2model = LogisticRegression(solver='liblinear',multi_class='auto')"
   ]
  },
  {
   "cell_type": "code",
   "execution_count": 27,
   "id": "463c695b",
   "metadata": {},
   "outputs": [
    {
     "name": "stdout",
     "output_type": "stream",
     "text": [
      "{'C': 25}\n",
      "0.5994028133246037\n"
     ]
    }
   ],
   "source": [
    "gsearch2 = GridSearchCV(T2model,paramL,cv=folds) #parameter tuning\n",
    "result2 = gsearch2.fit(x_sm,y_sm)\n",
    "print(result2.best_params_)\n",
    "print(result2.best_score_)"
   ]
  },
  {
   "cell_type": "markdown",
   "id": "dfa144f6",
   "metadata": {},
   "source": [
    "### check best model by cross validation"
   ]
  },
  {
   "cell_type": "code",
   "execution_count": 28,
   "id": "65f0374c",
   "metadata": {},
   "outputs": [],
   "source": [
    "from sklearn.model_selection import cross_val_score"
   ]
  },
  {
   "cell_type": "code",
   "execution_count": 29,
   "id": "843a07db",
   "metadata": {},
   "outputs": [
    {
     "data": {
      "text/plain": [
       "0.6359055118110236"
      ]
     },
     "execution_count": 29,
     "metadata": {},
     "output_type": "execute_result"
    }
   ],
   "source": [
    "(cross_val_score(GaussianNB(),x_sm,y_sm)).mean()"
   ]
  },
  {
   "cell_type": "code",
   "execution_count": 30,
   "id": "83042ee1",
   "metadata": {},
   "outputs": [
    {
     "data": {
      "text/plain": [
       "0.6006299212598425"
      ]
     },
     "execution_count": 30,
     "metadata": {},
     "output_type": "execute_result"
    }
   ],
   "source": [
    "(cross_val_score(LogisticRegression(solver='liblinear',multi_class='auto',C=25),x_sm,y_sm)).mean()\n"
   ]
  },
  {
   "cell_type": "code",
   "execution_count": 31,
   "id": "4183f095",
   "metadata": {},
   "outputs": [
    {
     "data": {
      "text/plain": [
       "0.6116535433070867"
      ]
     },
     "execution_count": 31,
     "metadata": {},
     "output_type": "execute_result"
    }
   ],
   "source": [
    "(cross_val_score(SVC(),x_sm,y_sm)).mean()\n"
   ]
  },
  {
   "cell_type": "code",
   "execution_count": 32,
   "id": "48dbfb3c",
   "metadata": {},
   "outputs": [
    {
     "data": {
      "text/plain": [
       "0.8604724409448818"
      ]
     },
     "execution_count": 32,
     "metadata": {},
     "output_type": "execute_result"
    }
   ],
   "source": [
    "(cross_val_score(RandomForestClassifier(n_estimators=250,criterion='entropy'),x_sm,y_sm)).mean()\n"
   ]
  },
  {
   "cell_type": "markdown",
   "id": "73b9c3a0",
   "metadata": {},
   "source": [
    "####                                                Best model is RandomForestClassifier"
   ]
  },
  {
   "cell_type": "code",
   "execution_count": 33,
   "id": "13b8c8ea",
   "metadata": {},
   "outputs": [],
   "source": [
    "#split data into train & test sets\n",
    "from sklearn.model_selection import train_test_split\n",
    "x_train,x_test,y_train,y_test= train_test_split(x_sm,y_sm,test_size = 0.3)"
   ]
  },
  {
   "cell_type": "code",
   "execution_count": 34,
   "id": "985f1461",
   "metadata": {},
   "outputs": [
    {
     "data": {
      "text/plain": [
       "0.8824763903462749"
      ]
     },
     "execution_count": 34,
     "metadata": {},
     "output_type": "execute_result"
    }
   ],
   "source": [
    "model = RandomForestClassifier(n_estimators=150,criterion='entropy')\n",
    "model.fit(x_train,y_train)\n",
    "model.score(x_test,y_test)"
   ]
  },
  {
   "cell_type": "code",
   "execution_count": 35,
   "id": "7669bffe",
   "metadata": {},
   "outputs": [
    {
     "data": {
      "text/plain": [
       "array(['sun', 'drizzle', 'fog', 'drizzle', 'snow', 'drizzle', 'snow',\n",
       "       'rain', 'rain', 'drizzle', 'snow', 'snow', 'sun', 'snow', 'sun',\n",
       "       'drizzle', 'drizzle', 'drizzle', 'drizzle', 'rain', 'drizzle',\n",
       "       'snow', 'snow', 'fog', 'drizzle', 'drizzle', 'rain', 'rain', 'fog',\n",
       "       'sun', 'rain', 'drizzle', 'fog', 'drizzle', 'snow', 'rain', 'sun',\n",
       "       'rain', 'snow', 'fog', 'snow', 'sun', 'snow', 'fog', 'drizzle',\n",
       "       'snow', 'sun', 'drizzle', 'sun', 'drizzle', 'drizzle', 'snow',\n",
       "       'fog', 'snow', 'snow', 'fog', 'sun', 'rain', 'drizzle', 'sun',\n",
       "       'snow', 'sun', 'sun', 'fog', 'fog', 'sun', 'rain', 'sun', 'rain',\n",
       "       'rain', 'sun', 'snow', 'sun', 'rain', 'rain', 'rain', 'fog',\n",
       "       'rain', 'snow', 'drizzle', 'drizzle', 'snow', 'rain', 'snow',\n",
       "       'sun', 'sun', 'rain', 'rain', 'drizzle', 'drizzle', 'fog', 'sun',\n",
       "       'rain', 'drizzle', 'fog', 'fog', 'sun', 'snow', 'sun', 'sun',\n",
       "       'sun', 'rain', 'drizzle', 'fog', 'sun', 'sun', 'snow', 'snow',\n",
       "       'fog', 'snow', 'sun', 'sun', 'sun', 'sun', 'fog', 'fog', 'fog',\n",
       "       'snow', 'snow', 'rain', 'fog', 'snow', 'drizzle', 'sun', 'sun',\n",
       "       'snow', 'fog', 'drizzle', 'drizzle', 'fog', 'sun', 'drizzle',\n",
       "       'sun', 'fog', 'snow', 'rain', 'fog', 'rain', 'sun', 'snow', 'fog',\n",
       "       'rain', 'fog', 'drizzle', 'sun', 'rain', 'rain', 'fog', 'fog',\n",
       "       'fog', 'sun', 'snow', 'drizzle', 'sun', 'sun', 'sun', 'fog', 'fog',\n",
       "       'sun', 'sun', 'snow', 'snow', 'snow', 'drizzle', 'fog', 'sun',\n",
       "       'snow', 'sun', 'rain', 'sun', 'sun', 'fog', 'sun', 'fog', 'fog',\n",
       "       'rain', 'drizzle', 'rain', 'drizzle', 'drizzle', 'fog', 'drizzle',\n",
       "       'snow', 'rain', 'drizzle', 'rain', 'sun', 'fog', 'sun', 'sun',\n",
       "       'sun', 'snow', 'sun', 'drizzle', 'fog', 'rain', 'drizzle',\n",
       "       'drizzle', 'fog', 'snow', 'fog', 'sun', 'sun', 'drizzle', 'rain',\n",
       "       'sun', 'snow', 'rain', 'fog', 'drizzle', 'fog', 'rain', 'drizzle',\n",
       "       'snow', 'snow', 'rain', 'fog', 'fog', 'fog', 'snow', 'snow',\n",
       "       'drizzle', 'rain', 'drizzle', 'fog', 'sun', 'sun', 'snow', 'rain',\n",
       "       'drizzle', 'fog', 'sun', 'fog', 'drizzle', 'snow', 'drizzle',\n",
       "       'sun', 'drizzle', 'rain', 'sun', 'sun', 'snow', 'fog', 'fog',\n",
       "       'sun', 'fog', 'drizzle', 'sun', 'drizzle', 'snow', 'sun', 'rain',\n",
       "       'drizzle', 'snow', 'rain', 'snow', 'sun', 'sun', 'fog', 'fog',\n",
       "       'rain', 'rain', 'sun', 'drizzle', 'sun', 'drizzle', 'fog', 'rain',\n",
       "       'drizzle', 'fog', 'drizzle', 'rain', 'drizzle', 'snow', 'snow',\n",
       "       'snow', 'rain', 'sun', 'drizzle', 'drizzle', 'drizzle', 'fog',\n",
       "       'drizzle', 'fog', 'drizzle', 'sun', 'sun', 'rain', 'snow', 'sun',\n",
       "       'rain', 'drizzle', 'drizzle', 'rain', 'sun', 'drizzle', 'rain',\n",
       "       'snow', 'fog', 'drizzle', 'rain', 'fog', 'sun', 'drizzle',\n",
       "       'drizzle', 'drizzle', 'drizzle', 'sun', 'snow', 'rain', 'drizzle',\n",
       "       'rain', 'sun', 'snow', 'sun', 'snow', 'rain', 'rain', 'rain',\n",
       "       'sun', 'snow', 'rain', 'fog', 'snow', 'snow', 'sun', 'fog', 'snow',\n",
       "       'fog', 'sun', 'sun', 'drizzle', 'sun', 'sun', 'snow', 'snow',\n",
       "       'sun', 'fog', 'rain', 'snow', 'drizzle', 'snow', 'drizzle', 'snow',\n",
       "       'fog', 'fog', 'rain', 'sun', 'rain', 'snow', 'snow', 'sun', 'sun',\n",
       "       'snow', 'snow', 'fog', 'drizzle', 'snow', 'drizzle', 'drizzle',\n",
       "       'drizzle', 'snow', 'rain', 'sun', 'rain', 'drizzle', 'rain',\n",
       "       'snow', 'drizzle', 'drizzle', 'sun', 'snow', 'sun', 'snow', 'sun',\n",
       "       'snow', 'drizzle', 'drizzle', 'snow', 'drizzle', 'sun', 'drizzle',\n",
       "       'fog', 'sun', 'sun', 'sun', 'rain', 'rain', 'fog', 'rain', 'sun',\n",
       "       'drizzle', 'rain', 'fog', 'drizzle', 'rain', 'rain', 'drizzle',\n",
       "       'fog', 'rain', 'drizzle', 'drizzle', 'rain', 'drizzle', 'rain',\n",
       "       'fog', 'sun', 'snow', 'sun', 'sun', 'rain', 'sun', 'drizzle',\n",
       "       'drizzle', 'snow', 'fog', 'rain', 'snow', 'snow', 'sun', 'drizzle',\n",
       "       'rain', 'snow', 'fog', 'snow', 'drizzle', 'drizzle', 'drizzle',\n",
       "       'sun', 'snow', 'fog', 'fog', 'sun', 'snow', 'fog', 'fog', 'fog',\n",
       "       'drizzle', 'sun', 'rain', 'fog', 'snow', 'drizzle', 'rain', 'fog',\n",
       "       'rain', 'fog', 'fog', 'rain', 'rain', 'sun', 'fog', 'snow', 'fog',\n",
       "       'fog', 'snow', 'rain', 'drizzle', 'fog', 'snow', 'rain', 'fog',\n",
       "       'rain', 'snow', 'fog', 'snow', 'sun', 'drizzle', 'drizzle', 'snow',\n",
       "       'fog', 'rain', 'drizzle', 'drizzle', 'rain', 'drizzle', 'fog',\n",
       "       'drizzle', 'sun', 'drizzle', 'sun', 'drizzle', 'rain', 'sun',\n",
       "       'rain', 'fog', 'drizzle', 'snow', 'rain', 'fog', 'rain', 'sun',\n",
       "       'sun', 'drizzle', 'snow', 'rain', 'snow', 'drizzle', 'sun', 'snow',\n",
       "       'fog', 'drizzle', 'snow', 'rain', 'snow', 'sun', 'fog', 'sun',\n",
       "       'sun', 'rain', 'snow', 'drizzle', 'snow', 'rain', 'drizzle',\n",
       "       'rain', 'sun', 'drizzle', 'sun', 'snow', 'snow', 'snow', 'sun',\n",
       "       'sun', 'snow', 'drizzle', 'rain', 'snow', 'snow', 'fog', 'drizzle',\n",
       "       'sun', 'drizzle', 'snow', 'snow', 'rain', 'drizzle', 'sun', 'sun',\n",
       "       'snow', 'snow', 'snow', 'sun', 'sun', 'drizzle', 'drizzle', 'fog',\n",
       "       'drizzle', 'drizzle', 'rain', 'drizzle', 'fog', 'snow', 'fog',\n",
       "       'rain', 'drizzle', 'fog', 'fog', 'drizzle', 'drizzle', 'snow',\n",
       "       'snow', 'sun', 'rain', 'rain', 'snow', 'fog', 'snow', 'snow',\n",
       "       'drizzle', 'fog', 'fog', 'fog', 'sun', 'snow', 'sun', 'fog',\n",
       "       'snow', 'sun', 'drizzle', 'rain', 'sun', 'drizzle', 'rain', 'snow',\n",
       "       'drizzle', 'rain', 'snow', 'snow', 'fog', 'snow', 'fog', 'snow',\n",
       "       'drizzle', 'rain', 'fog', 'snow', 'sun', 'snow', 'rain', 'fog',\n",
       "       'fog', 'snow', 'rain', 'fog', 'snow', 'rain', 'drizzle', 'sun',\n",
       "       'fog', 'drizzle', 'fog', 'rain', 'rain', 'drizzle', 'snow', 'sun',\n",
       "       'sun', 'drizzle', 'rain', 'snow', 'drizzle', 'rain', 'sun', 'rain',\n",
       "       'rain', 'rain', 'sun', 'sun', 'fog', 'snow', 'snow', 'snow',\n",
       "       'snow', 'drizzle', 'snow', 'fog', 'snow', 'drizzle', 'snow', 'fog',\n",
       "       'sun', 'fog', 'sun', 'rain', 'drizzle', 'snow', 'rain', 'rain',\n",
       "       'sun', 'sun', 'snow', 'snow', 'rain', 'snow', 'drizzle', 'rain',\n",
       "       'rain', 'snow', 'drizzle', 'drizzle', 'snow', 'rain', 'rain',\n",
       "       'fog', 'sun', 'sun', 'snow', 'sun', 'fog', 'snow', 'sun', 'rain',\n",
       "       'rain', 'fog', 'snow', 'snow', 'drizzle', 'sun', 'rain', 'rain',\n",
       "       'sun', 'drizzle', 'fog', 'rain', 'snow', 'fog', 'rain', 'sun',\n",
       "       'sun', 'drizzle', 'rain', 'sun', 'rain', 'fog', 'snow', 'snow',\n",
       "       'snow', 'rain', 'rain', 'drizzle', 'snow', 'drizzle', 'sun',\n",
       "       'rain', 'sun', 'sun', 'fog', 'snow', 'sun', 'drizzle', 'snow',\n",
       "       'snow', 'drizzle', 'fog', 'drizzle', 'sun', 'snow', 'snow',\n",
       "       'drizzle', 'rain', 'rain', 'drizzle', 'fog', 'fog', 'snow', 'rain',\n",
       "       'drizzle', 'snow', 'rain', 'drizzle', 'snow', 'snow', 'rain',\n",
       "       'fog', 'rain', 'sun', 'drizzle', 'snow', 'drizzle', 'drizzle',\n",
       "       'drizzle', 'fog', 'snow', 'fog', 'rain', 'sun', 'drizzle', 'snow',\n",
       "       'drizzle', 'sun', 'drizzle', 'drizzle', 'snow', 'fog', 'sun',\n",
       "       'drizzle', 'rain', 'rain', 'rain', 'rain', 'drizzle', 'fog',\n",
       "       'snow', 'drizzle', 'fog', 'rain', 'fog', 'drizzle', 'sun',\n",
       "       'drizzle', 'fog', 'snow', 'snow', 'fog', 'sun', 'drizzle', 'fog',\n",
       "       'drizzle', 'fog', 'fog', 'sun', 'sun', 'snow', 'snow', 'snow',\n",
       "       'snow', 'snow', 'rain', 'rain', 'snow', 'rain', 'rain', 'fog',\n",
       "       'sun', 'rain', 'rain', 'snow', 'drizzle', 'sun', 'sun', 'snow',\n",
       "       'rain', 'drizzle', 'fog', 'sun', 'fog', 'drizzle', 'sun', 'snow',\n",
       "       'rain', 'drizzle', 'rain', 'snow', 'fog', 'rain', 'fog', 'drizzle',\n",
       "       'drizzle', 'rain', 'snow', 'snow', 'drizzle', 'rain', 'drizzle',\n",
       "       'fog', 'fog', 'fog', 'sun', 'rain', 'rain', 'rain', 'drizzle',\n",
       "       'fog', 'fog', 'snow', 'snow', 'fog', 'sun', 'snow', 'sun', 'rain',\n",
       "       'sun', 'rain', 'snow', 'sun', 'rain', 'snow', 'snow', 'drizzle',\n",
       "       'sun', 'fog', 'sun', 'snow', 'sun', 'snow', 'fog', 'drizzle',\n",
       "       'drizzle', 'rain', 'rain', 'sun', 'rain', 'sun', 'rain', 'drizzle',\n",
       "       'snow', 'drizzle', 'snow', 'snow', 'sun', 'fog', 'drizzle', 'sun',\n",
       "       'fog', 'snow', 'drizzle', 'sun', 'snow', 'fog', 'rain', 'rain',\n",
       "       'drizzle', 'drizzle', 'rain', 'snow', 'drizzle', 'fog', 'drizzle',\n",
       "       'rain', 'sun', 'drizzle', 'sun', 'rain', 'fog', 'sun', 'sun',\n",
       "       'drizzle', 'fog', 'sun', 'snow', 'rain', 'fog', 'snow', 'drizzle',\n",
       "       'sun', 'sun', 'fog', 'fog', 'snow', 'fog', 'fog', 'rain', 'sun',\n",
       "       'snow', 'snow', 'snow', 'sun', 'snow', 'snow', 'sun', 'drizzle',\n",
       "       'fog', 'drizzle', 'drizzle', 'snow', 'drizzle', 'drizzle',\n",
       "       'drizzle', 'snow', 'fog', 'rain', 'snow', 'sun', 'snow', 'sun',\n",
       "       'snow', 'drizzle', 'fog', 'fog', 'drizzle', 'sun', 'drizzle',\n",
       "       'sun', 'fog', 'drizzle', 'fog', 'fog', 'fog', 'sun', 'rain',\n",
       "       'snow', 'sun'], dtype=object)"
      ]
     },
     "execution_count": 35,
     "metadata": {},
     "output_type": "execute_result"
    }
   ],
   "source": [
    "y_predicted = model.predict(x_test)\n",
    "y_predicted "
   ]
  },
  {
   "cell_type": "code",
   "execution_count": 36,
   "id": "6302c6fd",
   "metadata": {},
   "outputs": [
    {
     "name": "stderr",
     "output_type": "stream",
     "text": [
      "G:\\Anaconda\\lib\\site-packages\\sklearn\\base.py:450: UserWarning: X does not have valid feature names, but RandomForestClassifier was fitted with feature names\n",
      "  warnings.warn(\n"
     ]
    },
    {
     "data": {
      "text/plain": [
       "array(['rain'], dtype=object)"
      ]
     },
     "execution_count": 36,
     "metadata": {},
     "output_type": "execute_result"
    }
   ],
   "source": [
    "model.predict([[0.8,11.7,7.2,2.3]])"
   ]
  },
  {
   "cell_type": "markdown",
   "id": "0df71b5b",
   "metadata": {},
   "source": [
    "### function to predict weather"
   ]
  },
  {
   "cell_type": "code",
   "execution_count": 37,
   "id": "34669c9c",
   "metadata": {},
   "outputs": [],
   "source": [
    "def predict_weather(precipitation,temp_max,temp_min,wind):    \n",
    "  \n",
    "\n",
    "    x = np.zeros(len(x_sm.columns))\n",
    "    x[0] = precipitation\n",
    "    x[1] = temp_max\n",
    "    x[2] = temp_min\n",
    "    x[3] = wind\n",
    "\n",
    "    return model.predict([x])[0]"
   ]
  },
  {
   "cell_type": "code",
   "execution_count": 38,
   "id": "84bd3701",
   "metadata": {},
   "outputs": [
    {
     "name": "stderr",
     "output_type": "stream",
     "text": [
      "G:\\Anaconda\\lib\\site-packages\\sklearn\\base.py:450: UserWarning: X does not have valid feature names, but RandomForestClassifier was fitted with feature names\n",
      "  warnings.warn(\n"
     ]
    },
    {
     "data": {
      "text/plain": [
       "'rain'"
      ]
     },
     "execution_count": 38,
     "metadata": {},
     "output_type": "execute_result"
    }
   ],
   "source": [
    "predict_weather(0.8,11.7,7.2,2.3)"
   ]
  },
  {
   "cell_type": "code",
   "execution_count": 39,
   "id": "e0983a57",
   "metadata": {},
   "outputs": [
    {
     "name": "stderr",
     "output_type": "stream",
     "text": [
      "G:\\Anaconda\\lib\\site-packages\\sklearn\\base.py:450: UserWarning: X does not have valid feature names, but RandomForestClassifier was fitted with feature names\n",
      "  warnings.warn(\n"
     ]
    },
    {
     "data": {
      "text/plain": [
       "'fog'"
      ]
     },
     "execution_count": 39,
     "metadata": {},
     "output_type": "execute_result"
    }
   ],
   "source": [
    "predict_weather(0.0,7.2,0.6,2.6)"
   ]
  },
  {
   "cell_type": "markdown",
   "id": "0110d5e8",
   "metadata": {},
   "source": [
    "### Confusion matrix"
   ]
  },
  {
   "cell_type": "code",
   "execution_count": 40,
   "id": "b7ef67b1",
   "metadata": {},
   "outputs": [],
   "source": [
    "import matplotlib.pyplot as plt\n",
    "import seaborn as sns\n",
    "from sklearn import metrics"
   ]
  },
  {
   "cell_type": "code",
   "execution_count": 41,
   "id": "e4ae041a",
   "metadata": {},
   "outputs": [
    {
     "data": {
      "text/plain": [
       "array([[168,   8,   0,   0,  14],\n",
       "       [ 18, 145,   0,   0,  25],\n",
       "       [  2,   4, 175,   0,  11],\n",
       "       [  0,   0,   0, 208,   0],\n",
       "       [ 14,  14,   2,   0, 145]], dtype=int64)"
      ]
     },
     "execution_count": 41,
     "metadata": {},
     "output_type": "execute_result"
    }
   ],
   "source": [
    "cm = metrics.confusion_matrix(y_test,y_predicted)\n",
    "cm"
   ]
  },
  {
   "cell_type": "markdown",
   "id": "e862d7f4",
   "metadata": {},
   "source": [
    "### Heatmap"
   ]
  },
  {
   "cell_type": "code",
   "execution_count": 42,
   "id": "80d35828",
   "metadata": {},
   "outputs": [
    {
     "data": {
      "text/plain": [
       "Text(0.5, 1.0, 'Accuracy score:0.8824763903462749')"
      ]
     },
     "execution_count": 42,
     "metadata": {},
     "output_type": "execute_result"
    },
    {
     "data": {
      "image/png": "[encoded data removed]",
      "text/plain": [
       "<Figure size 360x360 with 2 Axes>"
      ]
     },
     "metadata": {
      "needs_background": "light"
     },
     "output_type": "display_data"
    }
   ],
   "source": [
    "score = model.score(x_test,y_test)\n",
    "plt.figure(figsize = (5,5))\n",
    "sns.heatmap(cm,annot = True,fmt = \".3f\",linewidth = .5, cmap = 'Reds')\n",
    "plt.ylabel('Actual values')\n",
    "plt.xlabel('Predicted values')\n",
    "topic = 'Accuracy score:{0}'.format(score)\n",
    "plt.title(topic,size = 15)"
   ]
  },
  {
   "cell_type": "markdown",
   "id": "5d30dc06",
   "metadata": {},
   "source": [
    "### Classification Report"
   ]
  },
  {
   "cell_type": "code",
   "execution_count": 43,
   "id": "76c5a3c9",
   "metadata": {},
   "outputs": [
    {
     "name": "stdout",
     "output_type": "stream",
     "text": [
      "              precision    recall  f1-score   support\n",
      "\n",
      "     drizzle       0.83      0.88      0.86       190\n",
      "         fog       0.85      0.77      0.81       188\n",
      "        rain       0.99      0.91      0.95       192\n",
      "        snow       1.00      1.00      1.00       208\n",
      "         sun       0.74      0.83      0.78       175\n",
      "\n",
      "    accuracy                           0.88       953\n",
      "   macro avg       0.88      0.88      0.88       953\n",
      "weighted avg       0.89      0.88      0.88       953\n",
      "\n"
     ]
    }
   ],
   "source": [
    "from sklearn.metrics import classification_report\n",
    "print(classification_report(y_test,y_predicted))"
   ]
  },
  {
   "cell_type": "markdown",
   "id": "77e1a206",
   "metadata": {},
   "source": [
    "### Other Measurements"
   ]
  },
  {
   "cell_type": "code",
   "execution_count": 45,
   "id": "5cc9c657",
   "metadata": {},
   "outputs": [],
   "source": [
    "from sklearn.metrics import confusion_matrix,accuracy_score,precision_score,recall_score,mean_squared_error"
   ]
  },
  {
   "cell_type": "code",
   "execution_count": 46,
   "id": "77c78dc3",
   "metadata": {},
   "outputs": [
    {
     "data": {
      "text/plain": [
       "0.8824763903462749"
      ]
     },
     "execution_count": 46,
     "metadata": {},
     "output_type": "execute_result"
    }
   ],
   "source": [
    "#accuracy\n",
    "accuracy_score(y_test,y_predicted) \n",
    "#recall means sensitivity"
   ]
  },
  {
   "cell_type": "code",
   "execution_count": 47,
   "id": "0d241b2d",
   "metadata": {},
   "outputs": [
    {
     "data": {
      "text/plain": [
       "0.1175236096537251"
      ]
     },
     "execution_count": 47,
     "metadata": {},
     "output_type": "execute_result"
    }
   ],
   "source": [
    "#error rate\n",
    "1-accuracy_score(y_test,y_predicted)"
   ]
  },
  {
   "cell_type": "markdown",
   "id": "f33da510",
   "metadata": {},
   "source": [
    "### Export the tested model to a pickle file"
   ]
  },
  {
   "cell_type": "code",
   "execution_count": 52,
   "id": "c61d27cb",
   "metadata": {},
   "outputs": [],
   "source": [
    "import pickle\n",
    "with open('weather_prediction_model.pickle','wb') as f:\n",
    "    pickle.dump(model,f)\n",
    "    \n",
    "#wb used to insert binary data"
   ]
  },
  {
   "cell_type": "code",
   "execution_count": 51,
   "id": "f2c645c1",
   "metadata": {},
   "outputs": [],
   "source": [
    "import pickle\n",
    "with open('weather_prediction_model.pickle','rb') as f:\n",
    "    data = pickle.load(f)\n",
    "    "
   ]
  },
  {
   "cell_type": "markdown",
   "id": "49a7ec74",
   "metadata": {},
   "source": [
    "### Export column information to a file that will be useful later on in our prediction application"
   ]
  },
  {
   "cell_type": "code",
   "execution_count": 49,
   "id": "5d308056",
   "metadata": {},
   "outputs": [],
   "source": [
    "#show column details\n",
    "import json\n",
    "columns = {\n",
    "    'data_columns' : [col.lower() for col in x_sm.columns]\n",
    "}\n",
    "with open(\"columns_weather.json\",\"w\") as f:\n",
    "    f.write(json.dumps(columns))"
   ]
  }
 ],
 "metadata": {
  "kernelspec": {
   "display_name": "Python 3",
   "language": "python",
   "name": "python3"
  },
  "language_info": {
   "codemirror_mode": {
    "name": "ipython",
    "version": 3
   },
   "file_extension": ".py",
   "mimetype": "text/x-python",
   "name": "python",
   "nbconvert_exporter": "python",
   "pygments_lexer": "ipython3",
   "version": "3.8.8"
  }
 },
 "nbformat": 4,
 "nbformat_minor": 5
}
