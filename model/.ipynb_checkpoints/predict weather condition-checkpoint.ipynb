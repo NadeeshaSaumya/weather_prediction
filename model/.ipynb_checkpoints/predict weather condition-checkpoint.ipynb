{
 "cells": [
  {
   "cell_type": "code",
   "execution_count": null,
   "id": "50096eed",
   "metadata": {},
   "outputs": [],
   "source": [
    "#import libraries\n",
    "import numpy as np\n",
    "import pandas as pd"
   ]
  },
  {
   "cell_type": "code",
   "execution_count": null,
   "id": "01800044",
   "metadata": {},
   "outputs": [],
   "source": [
    "#import csv file to dataframe\n",
    "df = pd.read_csv('seattle-weather.csv')\n",
    "df"
   ]
  },
  {
   "cell_type": "markdown",
   "id": "7e6d7420",
   "metadata": {},
   "source": [
    "### 1.identify missing values"
   ]
  },
  {
   "cell_type": "code",
   "execution_count": 3,
   "id": "e9fd997d",
   "metadata": {},
   "outputs": [
    {
     "data": {
      "text/plain": [
       "date             0\n",
       "precipitation    0\n",
       "temp_max         0\n",
       "temp_min         0\n",
       "wind             0\n",
       "weather          0\n",
       "dtype: int64"
      ]
     },
     "execution_count": 3,
     "metadata": {},
     "output_type": "execute_result"
    }
   ],
   "source": [
    "#check null values\n",
    "df.isnull().sum()"
   ]
  },
  {
   "cell_type": "markdown",
   "id": "54b29bda",
   "metadata": {},
   "source": [
    "### 2.identify duplicate values"
   ]
  },
  {
   "cell_type": "code",
   "execution_count": 4,
   "id": "a3bd8a48",
   "metadata": {},
   "outputs": [
    {
     "data": {
      "text/plain": [
       "0"
      ]
     },
     "execution_count": 4,
     "metadata": {},
     "output_type": "execute_result"
    }
   ],
   "source": [
    "df.duplicated().sum()"
   ]
  },
  {
   "cell_type": "code",
   "execution_count": 5,
   "id": "0697e52c",
   "metadata": {},
   "outputs": [
    {
     "data": {
      "text/html": [
       "<div>\n",
       "<style scoped>\n",
       "    .dataframe tbody tr th:only-of-type {\n",
       "        vertical-align: middle;\n",
       "    }\n",
       "\n",
       "    .dataframe tbody tr th {\n",
       "        vertical-align: top;\n",
       "    }\n",
       "\n",
       "    .dataframe thead th {\n",
       "        text-align: right;\n",
       "    }\n",
       "</style>\n",
       "<table border=\"1\" class=\"dataframe\">\n",
       "  <thead>\n",
       "    <tr style=\"text-align: right;\">\n",
       "      <th></th>\n",
       "      <th>precipitation</th>\n",
       "      <th>temp_max</th>\n",
       "      <th>temp_min</th>\n",
       "      <th>wind</th>\n",
       "      <th>weather</th>\n",
       "    </tr>\n",
       "  </thead>\n",
       "  <tbody>\n",
       "    <tr>\n",
       "      <th>0</th>\n",
       "      <td>0.0</td>\n",
       "      <td>12.8</td>\n",
       "      <td>5.0</td>\n",
       "      <td>4.7</td>\n",
       "      <td>drizzle</td>\n",
       "    </tr>\n",
       "    <tr>\n",
       "      <th>1</th>\n",
       "      <td>10.9</td>\n",
       "      <td>10.6</td>\n",
       "      <td>2.8</td>\n",
       "      <td>4.5</td>\n",
       "      <td>rain</td>\n",
       "    </tr>\n",
       "    <tr>\n",
       "      <th>2</th>\n",
       "      <td>0.8</td>\n",
       "      <td>11.7</td>\n",
       "      <td>7.2</td>\n",
       "      <td>2.3</td>\n",
       "      <td>rain</td>\n",
       "    </tr>\n",
       "    <tr>\n",
       "      <th>3</th>\n",
       "      <td>20.3</td>\n",
       "      <td>12.2</td>\n",
       "      <td>5.6</td>\n",
       "      <td>4.7</td>\n",
       "      <td>rain</td>\n",
       "    </tr>\n",
       "    <tr>\n",
       "      <th>4</th>\n",
       "      <td>1.3</td>\n",
       "      <td>8.9</td>\n",
       "      <td>2.8</td>\n",
       "      <td>6.1</td>\n",
       "      <td>rain</td>\n",
       "    </tr>\n",
       "    <tr>\n",
       "      <th>...</th>\n",
       "      <td>...</td>\n",
       "      <td>...</td>\n",
       "      <td>...</td>\n",
       "      <td>...</td>\n",
       "      <td>...</td>\n",
       "    </tr>\n",
       "    <tr>\n",
       "      <th>1456</th>\n",
       "      <td>8.6</td>\n",
       "      <td>4.4</td>\n",
       "      <td>1.7</td>\n",
       "      <td>2.9</td>\n",
       "      <td>rain</td>\n",
       "    </tr>\n",
       "    <tr>\n",
       "      <th>1457</th>\n",
       "      <td>1.5</td>\n",
       "      <td>5.0</td>\n",
       "      <td>1.7</td>\n",
       "      <td>1.3</td>\n",
       "      <td>rain</td>\n",
       "    </tr>\n",
       "    <tr>\n",
       "      <th>1458</th>\n",
       "      <td>0.0</td>\n",
       "      <td>7.2</td>\n",
       "      <td>0.6</td>\n",
       "      <td>2.6</td>\n",
       "      <td>fog</td>\n",
       "    </tr>\n",
       "    <tr>\n",
       "      <th>1459</th>\n",
       "      <td>0.0</td>\n",
       "      <td>5.6</td>\n",
       "      <td>-1.0</td>\n",
       "      <td>3.4</td>\n",
       "      <td>sun</td>\n",
       "    </tr>\n",
       "    <tr>\n",
       "      <th>1460</th>\n",
       "      <td>0.0</td>\n",
       "      <td>5.6</td>\n",
       "      <td>-2.1</td>\n",
       "      <td>3.5</td>\n",
       "      <td>sun</td>\n",
       "    </tr>\n",
       "  </tbody>\n",
       "</table>\n",
       "<p>1461 rows × 5 columns</p>\n",
       "</div>"
      ],
      "text/plain": [
       "      precipitation  temp_max  temp_min  wind  weather\n",
       "0               0.0      12.8       5.0   4.7  drizzle\n",
       "1              10.9      10.6       2.8   4.5     rain\n",
       "2               0.8      11.7       7.2   2.3     rain\n",
       "3              20.3      12.2       5.6   4.7     rain\n",
       "4               1.3       8.9       2.8   6.1     rain\n",
       "...             ...       ...       ...   ...      ...\n",
       "1456            8.6       4.4       1.7   2.9     rain\n",
       "1457            1.5       5.0       1.7   1.3     rain\n",
       "1458            0.0       7.2       0.6   2.6      fog\n",
       "1459            0.0       5.6      -1.0   3.4      sun\n",
       "1460            0.0       5.6      -2.1   3.5      sun\n",
       "\n",
       "[1461 rows x 5 columns]"
      ]
     },
     "execution_count": 5,
     "metadata": {},
     "output_type": "execute_result"
    }
   ],
   "source": [
    "df1 = df.drop(['date'],axis = 1)\n",
    "df1"
   ]
  },
  {
   "cell_type": "code",
   "execution_count": 6,
   "id": "461cc5fe",
   "metadata": {},
   "outputs": [
    {
     "data": {
      "text/plain": [
       "(1461, 5)"
      ]
     },
     "execution_count": 6,
     "metadata": {},
     "output_type": "execute_result"
    }
   ],
   "source": [
    "df1.shape"
   ]
  },
  {
   "cell_type": "markdown",
   "id": "0242ce88",
   "metadata": {},
   "source": [
    "### 3. identify outliers"
   ]
  },
  {
   "cell_type": "code",
   "execution_count": 7,
   "id": "fa897bca",
   "metadata": {},
   "outputs": [
    {
     "data": {
      "text/plain": [
       "<AxesSubplot:>"
      ]
     },
     "execution_count": 7,
     "metadata": {},
     "output_type": "execute_result"
    },
    {
     "data": {
      "image/png": "[encoded data removed]",
      "text/plain": [
       "<Figure size 432x288 with 1 Axes>"
      ]
     },
     "metadata": {
      "needs_background": "light"
     },
     "output_type": "display_data"
    }
   ],
   "source": [
    "df1.iloc[:,:].boxplot() # see the out lyers using boxplot\n"
   ]
  },
  {
   "cell_type": "code",
   "execution_count": 8,
   "id": "d6ce821e",
   "metadata": {},
   "outputs": [
    {
     "data": {
      "text/plain": [
       "precipitation     0.0\n",
       "temp_max         10.6\n",
       "temp_min          4.4\n",
       "wind              2.2\n",
       "Name: 0.25, dtype: float64"
      ]
     },
     "execution_count": 8,
     "metadata": {},
     "output_type": "execute_result"
    }
   ],
   "source": [
    "Q1 = df1.quantile(0.25)\n",
    "Q3 = df1.quantile(0.75)\n",
    "Q1"
   ]
  },
  {
   "cell_type": "code",
   "execution_count": 9,
   "id": "35983fae",
   "metadata": {},
   "outputs": [],
   "source": [
    "IQR = Q3-Q1"
   ]
  },
  {
   "cell_type": "code",
   "execution_count": 10,
   "id": "f8295e3d",
   "metadata": {},
   "outputs": [
    {
     "name": "stderr",
     "output_type": "stream",
     "text": [
      "<ipython-input-10-53b9030ee849>:2: FutureWarning: Automatic reindexing on DataFrame vs Series comparisons is deprecated and will raise ValueError in a future version.  Do `left, right = left.align(right, axis=1, copy=False)` before e.g. `left == right`\n",
      "  Out_row = ((df1<(Q1-1.5*IQR))|(df1>(Q3+1.5*IQR))).any(axis=1)\n",
      "<ipython-input-10-53b9030ee849>:2: FutureWarning: Automatic reindexing on DataFrame vs Series comparisons is deprecated and will raise ValueError in a future version.  Do `left, right = left.align(right, axis=1, copy=False)` before e.g. `left == right`\n",
      "  Out_row = ((df1<(Q1-1.5*IQR))|(df1>(Q3+1.5*IQR))).any(axis=1)\n"
     ]
    },
    {
     "data": {
      "text/plain": [
       "0       False\n",
       "1        True\n",
       "2       False\n",
       "3        True\n",
       "4       False\n",
       "        ...  \n",
       "1456     True\n",
       "1457    False\n",
       "1458    False\n",
       "1459    False\n",
       "1460    False\n",
       "Length: 1461, dtype: bool"
      ]
     },
     "execution_count": 10,
     "metadata": {},
     "output_type": "execute_result"
    }
   ],
   "source": [
    "# get the outlier row index as true\n",
    "Out_row = ((df1<(Q1-1.5*IQR))|(df1>(Q3+1.5*IQR))).any(axis=1)\n",
    "Out_row"
   ]
  },
  {
   "cell_type": "code",
   "execution_count": 11,
   "id": "f1f3160f",
   "metadata": {},
   "outputs": [
    {
     "data": {
      "text/html": [
       "<div>\n",
       "<style scoped>\n",
       "    .dataframe tbody tr th:only-of-type {\n",
       "        vertical-align: middle;\n",
       "    }\n",
       "\n",
       "    .dataframe tbody tr th {\n",
       "        vertical-align: top;\n",
       "    }\n",
       "\n",
       "    .dataframe thead th {\n",
       "        text-align: right;\n",
       "    }\n",
       "</style>\n",
       "<table border=\"1\" class=\"dataframe\">\n",
       "  <thead>\n",
       "    <tr style=\"text-align: right;\">\n",
       "      <th></th>\n",
       "      <th>precipitation</th>\n",
       "      <th>temp_max</th>\n",
       "      <th>temp_min</th>\n",
       "      <th>wind</th>\n",
       "      <th>weather</th>\n",
       "    </tr>\n",
       "  </thead>\n",
       "  <tbody>\n",
       "    <tr>\n",
       "      <th>0</th>\n",
       "      <td>0.0</td>\n",
       "      <td>12.8</td>\n",
       "      <td>5.0</td>\n",
       "      <td>4.7</td>\n",
       "      <td>drizzle</td>\n",
       "    </tr>\n",
       "    <tr>\n",
       "      <th>2</th>\n",
       "      <td>0.8</td>\n",
       "      <td>11.7</td>\n",
       "      <td>7.2</td>\n",
       "      <td>2.3</td>\n",
       "      <td>rain</td>\n",
       "    </tr>\n",
       "    <tr>\n",
       "      <th>4</th>\n",
       "      <td>1.3</td>\n",
       "      <td>8.9</td>\n",
       "      <td>2.8</td>\n",
       "      <td>6.1</td>\n",
       "      <td>rain</td>\n",
       "    </tr>\n",
       "    <tr>\n",
       "      <th>5</th>\n",
       "      <td>2.5</td>\n",
       "      <td>4.4</td>\n",
       "      <td>2.2</td>\n",
       "      <td>2.2</td>\n",
       "      <td>rain</td>\n",
       "    </tr>\n",
       "    <tr>\n",
       "      <th>6</th>\n",
       "      <td>0.0</td>\n",
       "      <td>7.2</td>\n",
       "      <td>2.8</td>\n",
       "      <td>2.3</td>\n",
       "      <td>rain</td>\n",
       "    </tr>\n",
       "    <tr>\n",
       "      <th>...</th>\n",
       "      <td>...</td>\n",
       "      <td>...</td>\n",
       "      <td>...</td>\n",
       "      <td>...</td>\n",
       "      <td>...</td>\n",
       "    </tr>\n",
       "    <tr>\n",
       "      <th>1455</th>\n",
       "      <td>0.0</td>\n",
       "      <td>4.4</td>\n",
       "      <td>0.0</td>\n",
       "      <td>2.5</td>\n",
       "      <td>sun</td>\n",
       "    </tr>\n",
       "    <tr>\n",
       "      <th>1457</th>\n",
       "      <td>1.5</td>\n",
       "      <td>5.0</td>\n",
       "      <td>1.7</td>\n",
       "      <td>1.3</td>\n",
       "      <td>rain</td>\n",
       "    </tr>\n",
       "    <tr>\n",
       "      <th>1458</th>\n",
       "      <td>0.0</td>\n",
       "      <td>7.2</td>\n",
       "      <td>0.6</td>\n",
       "      <td>2.6</td>\n",
       "      <td>fog</td>\n",
       "    </tr>\n",
       "    <tr>\n",
       "      <th>1459</th>\n",
       "      <td>0.0</td>\n",
       "      <td>5.6</td>\n",
       "      <td>-1.0</td>\n",
       "      <td>3.4</td>\n",
       "      <td>sun</td>\n",
       "    </tr>\n",
       "    <tr>\n",
       "      <th>1460</th>\n",
       "      <td>0.0</td>\n",
       "      <td>5.6</td>\n",
       "      <td>-2.1</td>\n",
       "      <td>3.5</td>\n",
       "      <td>sun</td>\n",
       "    </tr>\n",
       "  </tbody>\n",
       "</table>\n",
       "<p>1233 rows × 5 columns</p>\n",
       "</div>"
      ],
      "text/plain": [
       "      precipitation  temp_max  temp_min  wind  weather\n",
       "0               0.0      12.8       5.0   4.7  drizzle\n",
       "2               0.8      11.7       7.2   2.3     rain\n",
       "4               1.3       8.9       2.8   6.1     rain\n",
       "5               2.5       4.4       2.2   2.2     rain\n",
       "6               0.0       7.2       2.8   2.3     rain\n",
       "...             ...       ...       ...   ...      ...\n",
       "1455            0.0       4.4       0.0   2.5      sun\n",
       "1457            1.5       5.0       1.7   1.3     rain\n",
       "1458            0.0       7.2       0.6   2.6      fog\n",
       "1459            0.0       5.6      -1.0   3.4      sun\n",
       "1460            0.0       5.6      -2.1   3.5      sun\n",
       "\n",
       "[1233 rows x 5 columns]"
      ]
     },
     "execution_count": 11,
     "metadata": {},
     "output_type": "execute_result"
    }
   ],
   "source": [
    "#set the correct rows as a ture and get these rows\n",
    "df2 = df1[~Out_row] \n",
    "df2"
   ]
  },
  {
   "cell_type": "code",
   "execution_count": 12,
   "id": "4721ed2f",
   "metadata": {},
   "outputs": [
    {
     "data": {
      "text/plain": [
       "<AxesSubplot:>"
      ]
     },
     "execution_count": 12,
     "metadata": {},
     "output_type": "execute_result"
    },
    {
     "data": {
      "image/png": "[encoded data removed]",
      "text/plain": [
       "<Figure size 432x288 with 1 Axes>"
      ]
     },
     "metadata": {
      "needs_background": "light"
     },
     "output_type": "display_data"
    }
   ],
   "source": [
    "df2.iloc[:,:].boxplot()"
   ]
  },
  {
   "cell_type": "code",
   "execution_count": 13,
   "id": "7814228e",
   "metadata": {},
   "outputs": [
    {
     "data": {
      "text/plain": [
       "(1233, 5)"
      ]
     },
     "execution_count": 13,
     "metadata": {},
     "output_type": "execute_result"
    }
   ],
   "source": [
    "df2.shape"
   ]
  },
  {
   "cell_type": "code",
   "execution_count": 14,
   "id": "9f97f7ae",
   "metadata": {},
   "outputs": [
    {
     "data": {
      "text/html": [
       "<div>\n",
       "<style scoped>\n",
       "    .dataframe tbody tr th:only-of-type {\n",
       "        vertical-align: middle;\n",
       "    }\n",
       "\n",
       "    .dataframe tbody tr th {\n",
       "        vertical-align: top;\n",
       "    }\n",
       "\n",
       "    .dataframe thead th {\n",
       "        text-align: right;\n",
       "    }\n",
       "</style>\n",
       "<table border=\"1\" class=\"dataframe\">\n",
       "  <thead>\n",
       "    <tr style=\"text-align: right;\">\n",
       "      <th></th>\n",
       "      <th>precipitation</th>\n",
       "      <th>temp_max</th>\n",
       "      <th>temp_min</th>\n",
       "      <th>wind</th>\n",
       "    </tr>\n",
       "  </thead>\n",
       "  <tbody>\n",
       "    <tr>\n",
       "      <th>0</th>\n",
       "      <td>0.0</td>\n",
       "      <td>12.8</td>\n",
       "      <td>5.0</td>\n",
       "      <td>4.7</td>\n",
       "    </tr>\n",
       "    <tr>\n",
       "      <th>2</th>\n",
       "      <td>0.8</td>\n",
       "      <td>11.7</td>\n",
       "      <td>7.2</td>\n",
       "      <td>2.3</td>\n",
       "    </tr>\n",
       "    <tr>\n",
       "      <th>4</th>\n",
       "      <td>1.3</td>\n",
       "      <td>8.9</td>\n",
       "      <td>2.8</td>\n",
       "      <td>6.1</td>\n",
       "    </tr>\n",
       "    <tr>\n",
       "      <th>5</th>\n",
       "      <td>2.5</td>\n",
       "      <td>4.4</td>\n",
       "      <td>2.2</td>\n",
       "      <td>2.2</td>\n",
       "    </tr>\n",
       "    <tr>\n",
       "      <th>6</th>\n",
       "      <td>0.0</td>\n",
       "      <td>7.2</td>\n",
       "      <td>2.8</td>\n",
       "      <td>2.3</td>\n",
       "    </tr>\n",
       "    <tr>\n",
       "      <th>...</th>\n",
       "      <td>...</td>\n",
       "      <td>...</td>\n",
       "      <td>...</td>\n",
       "      <td>...</td>\n",
       "    </tr>\n",
       "    <tr>\n",
       "      <th>1455</th>\n",
       "      <td>0.0</td>\n",
       "      <td>4.4</td>\n",
       "      <td>0.0</td>\n",
       "      <td>2.5</td>\n",
       "    </tr>\n",
       "    <tr>\n",
       "      <th>1457</th>\n",
       "      <td>1.5</td>\n",
       "      <td>5.0</td>\n",
       "      <td>1.7</td>\n",
       "      <td>1.3</td>\n",
       "    </tr>\n",
       "    <tr>\n",
       "      <th>1458</th>\n",
       "      <td>0.0</td>\n",
       "      <td>7.2</td>\n",
       "      <td>0.6</td>\n",
       "      <td>2.6</td>\n",
       "    </tr>\n",
       "    <tr>\n",
       "      <th>1459</th>\n",
       "      <td>0.0</td>\n",
       "      <td>5.6</td>\n",
       "      <td>-1.0</td>\n",
       "      <td>3.4</td>\n",
       "    </tr>\n",
       "    <tr>\n",
       "      <th>1460</th>\n",
       "      <td>0.0</td>\n",
       "      <td>5.6</td>\n",
       "      <td>-2.1</td>\n",
       "      <td>3.5</td>\n",
       "    </tr>\n",
       "  </tbody>\n",
       "</table>\n",
       "<p>1233 rows × 4 columns</p>\n",
       "</div>"
      ],
      "text/plain": [
       "      precipitation  temp_max  temp_min  wind\n",
       "0               0.0      12.8       5.0   4.7\n",
       "2               0.8      11.7       7.2   2.3\n",
       "4               1.3       8.9       2.8   6.1\n",
       "5               2.5       4.4       2.2   2.2\n",
       "6               0.0       7.2       2.8   2.3\n",
       "...             ...       ...       ...   ...\n",
       "1455            0.0       4.4       0.0   2.5\n",
       "1457            1.5       5.0       1.7   1.3\n",
       "1458            0.0       7.2       0.6   2.6\n",
       "1459            0.0       5.6      -1.0   3.4\n",
       "1460            0.0       5.6      -2.1   3.5\n",
       "\n",
       "[1233 rows x 4 columns]"
      ]
     },
     "execution_count": 14,
     "metadata": {},
     "output_type": "execute_result"
    }
   ],
   "source": [
    "x = df2.drop(['weather'],axis = 1)\n",
    "x"
   ]
  },
  {
   "cell_type": "code",
   "execution_count": 15,
   "id": "c89b7aeb",
   "metadata": {},
   "outputs": [
    {
     "data": {
      "text/plain": [
       "0       drizzle\n",
       "2          rain\n",
       "4          rain\n",
       "5          rain\n",
       "6          rain\n",
       "         ...   \n",
       "1455        sun\n",
       "1457       rain\n",
       "1458        fog\n",
       "1459        sun\n",
       "1460        sun\n",
       "Name: weather, Length: 1233, dtype: object"
      ]
     },
     "execution_count": 15,
     "metadata": {},
     "output_type": "execute_result"
    }
   ],
   "source": [
    "y = df2['weather']\n",
    "y"
   ]
  },
  {
   "cell_type": "markdown",
   "id": "fa1118a1",
   "metadata": {},
   "source": [
    "### 4. check data imbalance"
   ]
  },
  {
   "cell_type": "code",
   "execution_count": 16,
   "id": "c71b21fb",
   "metadata": {},
   "outputs": [
    {
     "data": {
      "text/plain": [
       "sun        635\n",
       "rain       431\n",
       "fog        101\n",
       "drizzle     53\n",
       "snow        13\n",
       "Name: weather, dtype: int64"
      ]
     },
     "execution_count": 16,
     "metadata": {},
     "output_type": "execute_result"
    }
   ],
   "source": [
    "y.value_counts()"
   ]
  },
  {
   "cell_type": "code",
   "execution_count": 17,
   "id": "b0a2ac79",
   "metadata": {},
   "outputs": [],
   "source": [
    "from imblearn.over_sampling import SMOTE"
   ]
  },
  {
   "cell_type": "code",
   "execution_count": 18,
   "id": "884eda5b",
   "metadata": {},
   "outputs": [],
   "source": [
    "smt = SMOTE()\n",
    "x_sm, y_sm = smt.fit_resample(x, y)"
   ]
  },
  {
   "cell_type": "code",
   "execution_count": 19,
   "id": "0c7f8a91",
   "metadata": {},
   "outputs": [
    {
     "data": {
      "text/plain": [
       "rain       635\n",
       "fog        635\n",
       "drizzle    635\n",
       "sun        635\n",
       "snow       635\n",
       "Name: weather, dtype: int64"
      ]
     },
     "execution_count": 19,
     "metadata": {},
     "output_type": "execute_result"
    }
   ],
   "source": [
    "y_sm.value_counts()"
   ]
  },
  {
   "cell_type": "markdown",
   "id": "33f8a0a3",
   "metadata": {},
   "source": [
    "### 6.parameter tuning"
   ]
  },
  {
   "cell_type": "code",
   "execution_count": 20,
   "id": "ef952935",
   "metadata": {},
   "outputs": [],
   "source": [
    "from sklearn.linear_model import LogisticRegression\n",
    "from sklearn.svm import SVC\n",
    "from sklearn.ensemble import RandomForestClassifier\n",
    "from sklearn.naive_bayes import GaussianNB"
   ]
  },
  {
   "cell_type": "code",
   "execution_count": 21,
   "id": "de5ff414",
   "metadata": {},
   "outputs": [],
   "source": [
    "from sklearn.model_selection import StratifiedKFold\n",
    "folds = StratifiedKFold(n_splits = 10)"
   ]
  },
  {
   "cell_type": "code",
   "execution_count": 22,
   "id": "5fa6e99d",
   "metadata": {},
   "outputs": [],
   "source": [
    "from sklearn.model_selection import GridSearchCV"
   ]
  },
  {
   "cell_type": "code",
   "execution_count": 25,
   "id": "77cbf5c7",
   "metadata": {},
   "outputs": [],
   "source": [
    "params ={'n_estimators':[50,100,150,200,250],'criterion':['gini','entropy']}\n",
    "Tmodel = RandomForestClassifier()"
   ]
  },
  {
   "cell_type": "code",
   "execution_count": 26,
   "id": "4c6c0e46",
   "metadata": {},
   "outputs": [
    {
     "name": "stdout",
     "output_type": "stream",
     "text": [
      "{'criterion': 'entropy', 'n_estimators': 250}\n",
      "0.8743775172112771\n"
     ]
    }
   ],
   "source": [
    "gsearch = GridSearchCV(Tmodel,params,cv=folds) #parameter tuning\n",
    "result = gsearch.fit(x_sm,y_sm)\n",
    "print(result.best_params_)\n",
    "print(result.best_score_)"
   ]
  },
  {
   "cell_type": "code",
   "execution_count": 27,
   "id": "673180ee",
   "metadata": {},
   "outputs": [],
   "source": [
    "paramL = {'C': [1,5,10,15,25,30]}\n",
    "T2model = LogisticRegression(solver='liblinear',multi_class='auto')"
   ]
  },
  {
   "cell_type": "code",
   "execution_count": 28,
   "id": "463c695b",
   "metadata": {},
   "outputs": [
    {
     "name": "stdout",
     "output_type": "stream",
     "text": [
      "{'C': 25}\n",
      "0.5953117869968058\n"
     ]
    }
   ],
   "source": [
    "gsearch2 = GridSearchCV(T2model,paramL,cv=folds) #parameter tuning\n",
    "result2 = gsearch2.fit(x_sm,y_sm)\n",
    "print(result2.best_params_)\n",
    "print(result2.best_score_)"
   ]
  },
  {
   "cell_type": "markdown",
   "id": "dfa144f6",
   "metadata": {},
   "source": [
    "### check best model by cross validation"
   ]
  },
  {
   "cell_type": "code",
   "execution_count": 29,
   "id": "65f0374c",
   "metadata": {},
   "outputs": [],
   "source": [
    "from sklearn.model_selection import cross_val_score"
   ]
  },
  {
   "cell_type": "code",
   "execution_count": 30,
   "id": "843a07db",
   "metadata": {},
   "outputs": [
    {
     "data": {
      "text/plain": [
       "0.6462992125984252"
      ]
     },
     "execution_count": 30,
     "metadata": {},
     "output_type": "execute_result"
    }
   ],
   "source": [
    "(cross_val_score(GaussianNB(),x_sm,y_sm)).mean()"
   ]
  },
  {
   "cell_type": "code",
   "execution_count": 31,
   "id": "83042ee1",
   "metadata": {},
   "outputs": [
    {
     "data": {
      "text/plain": [
       "0.5930708661417323"
      ]
     },
     "execution_count": 31,
     "metadata": {},
     "output_type": "execute_result"
    }
   ],
   "source": [
    "(cross_val_score(LogisticRegression(solver='liblinear',multi_class='auto',C=25),x_sm,y_sm)).mean()\n"
   ]
  },
  {
   "cell_type": "code",
   "execution_count": 32,
   "id": "4183f095",
   "metadata": {},
   "outputs": [
    {
     "data": {
      "text/plain": [
       "0.6192125984251968"
      ]
     },
     "execution_count": 32,
     "metadata": {},
     "output_type": "execute_result"
    }
   ],
   "source": [
    "(cross_val_score(SVC(),x_sm,y_sm)).mean()\n"
   ]
  },
  {
   "cell_type": "code",
   "execution_count": 33,
   "id": "48dbfb3c",
   "metadata": {},
   "outputs": [
    {
     "data": {
      "text/plain": [
       "0.8648818897637796"
      ]
     },
     "execution_count": 33,
     "metadata": {},
     "output_type": "execute_result"
    }
   ],
   "source": [
    "(cross_val_score(RandomForestClassifier(n_estimators=250,criterion='entropy'),x_sm,y_sm)).mean()\n"
   ]
  },
  {
   "cell_type": "markdown",
   "id": "73b9c3a0",
   "metadata": {},
   "source": [
    "####                                                Best model is RandomForestClassifier"
   ]
  },
  {
   "cell_type": "code",
   "execution_count": 34,
   "id": "13b8c8ea",
   "metadata": {},
   "outputs": [],
   "source": [
    "#split data into train & test sets\n",
    "from sklearn.model_selection import train_test_split\n",
    "x_train,x_test,y_train,y_test= train_test_split(x_sm,y_sm,test_size = 0.3)"
   ]
  },
  {
   "cell_type": "code",
   "execution_count": 35,
   "id": "985f1461",
   "metadata": {},
   "outputs": [
    {
     "data": {
      "text/plain": [
       "0.863588667366212"
      ]
     },
     "execution_count": 35,
     "metadata": {},
     "output_type": "execute_result"
    }
   ],
   "source": [
    "model = RandomForestClassifier(n_estimators=150,criterion='entropy')\n",
    "model.fit(x_train,y_train)\n",
    "model.score(x_test,y_test)"
   ]
  },
  {
   "cell_type": "code",
   "execution_count": 36,
   "id": "7669bffe",
   "metadata": {},
   "outputs": [
    {
     "data": {
      "text/plain": [
       "array(['sun', 'fog', 'sun', 'rain', 'sun', 'snow', 'sun', 'sun', 'fog',\n",
       "       'drizzle', 'fog', 'rain', 'drizzle', 'rain', 'snow', 'sun',\n",
       "       'drizzle', 'sun', 'fog', 'sun', 'snow', 'sun', 'snow', 'fog',\n",
       "       'sun', 'fog', 'rain', 'sun', 'sun', 'rain', 'fog', 'drizzle',\n",
       "       'sun', 'fog', 'sun', 'snow', 'snow', 'sun', 'fog', 'snow', 'snow',\n",
       "       'snow', 'rain', 'fog', 'snow', 'sun', 'sun', 'snow', 'drizzle',\n",
       "       'snow', 'rain', 'sun', 'fog', 'drizzle', 'rain', 'rain', 'drizzle',\n",
       "       'rain', 'rain', 'snow', 'fog', 'sun', 'snow', 'rain', 'snow',\n",
       "       'sun', 'sun', 'snow', 'fog', 'drizzle', 'drizzle', 'drizzle',\n",
       "       'fog', 'drizzle', 'fog', 'rain', 'rain', 'fog', 'rain', 'rain',\n",
       "       'rain', 'drizzle', 'sun', 'snow', 'snow', 'fog', 'drizzle', 'snow',\n",
       "       'fog', 'fog', 'fog', 'snow', 'snow', 'fog', 'rain', 'rain', 'rain',\n",
       "       'sun', 'snow', 'fog', 'rain', 'fog', 'drizzle', 'snow', 'rain',\n",
       "       'fog', 'fog', 'sun', 'drizzle', 'sun', 'rain', 'rain', 'sun',\n",
       "       'drizzle', 'rain', 'snow', 'sun', 'sun', 'drizzle', 'snow', 'snow',\n",
       "       'drizzle', 'sun', 'drizzle', 'sun', 'sun', 'drizzle', 'sun',\n",
       "       'rain', 'rain', 'drizzle', 'sun', 'fog', 'snow', 'rain', 'fog',\n",
       "       'drizzle', 'sun', 'sun', 'sun', 'snow', 'drizzle', 'sun', 'rain',\n",
       "       'drizzle', 'rain', 'rain', 'fog', 'fog', 'drizzle', 'drizzle',\n",
       "       'fog', 'drizzle', 'drizzle', 'snow', 'drizzle', 'drizzle', 'fog',\n",
       "       'drizzle', 'rain', 'rain', 'sun', 'rain', 'fog', 'snow', 'fog',\n",
       "       'drizzle', 'drizzle', 'sun', 'sun', 'snow', 'drizzle', 'drizzle',\n",
       "       'rain', 'fog', 'rain', 'rain', 'drizzle', 'snow', 'snow', 'rain',\n",
       "       'fog', 'fog', 'drizzle', 'snow', 'snow', 'snow', 'fog', 'drizzle',\n",
       "       'snow', 'snow', 'rain', 'sun', 'rain', 'drizzle', 'fog', 'drizzle',\n",
       "       'rain', 'drizzle', 'rain', 'rain', 'rain', 'fog', 'drizzle',\n",
       "       'rain', 'snow', 'rain', 'snow', 'drizzle', 'drizzle', 'fog',\n",
       "       'rain', 'snow', 'rain', 'fog', 'snow', 'rain', 'snow', 'drizzle',\n",
       "       'rain', 'sun', 'fog', 'snow', 'rain', 'rain', 'sun', 'rain', 'fog',\n",
       "       'snow', 'snow', 'sun', 'sun', 'drizzle', 'sun', 'snow', 'snow',\n",
       "       'sun', 'sun', 'rain', 'drizzle', 'sun', 'fog', 'rain', 'sun',\n",
       "       'drizzle', 'drizzle', 'fog', 'rain', 'rain', 'rain', 'fog', 'snow',\n",
       "       'drizzle', 'snow', 'fog', 'drizzle', 'sun', 'snow', 'drizzle',\n",
       "       'snow', 'drizzle', 'snow', 'snow', 'sun', 'fog', 'rain', 'sun',\n",
       "       'rain', 'rain', 'rain', 'rain', 'sun', 'sun', 'drizzle', 'snow',\n",
       "       'drizzle', 'snow', 'sun', 'sun', 'fog', 'rain', 'fog', 'fog',\n",
       "       'rain', 'fog', 'fog', 'drizzle', 'fog', 'sun', 'fog', 'snow',\n",
       "       'drizzle', 'snow', 'drizzle', 'sun', 'drizzle', 'sun', 'sun',\n",
       "       'rain', 'rain', 'sun', 'fog', 'rain', 'snow', 'fog', 'fog', 'rain',\n",
       "       'rain', 'rain', 'snow', 'fog', 'snow', 'drizzle', 'rain',\n",
       "       'drizzle', 'sun', 'fog', 'drizzle', 'snow', 'fog', 'fog', 'fog',\n",
       "       'fog', 'drizzle', 'drizzle', 'fog', 'rain', 'drizzle', 'drizzle',\n",
       "       'drizzle', 'sun', 'snow', 'sun', 'sun', 'rain', 'sun', 'sun',\n",
       "       'sun', 'fog', 'fog', 'rain', 'drizzle', 'sun', 'sun', 'snow',\n",
       "       'snow', 'drizzle', 'sun', 'fog', 'snow', 'fog', 'drizzle',\n",
       "       'drizzle', 'snow', 'rain', 'sun', 'snow', 'snow', 'drizzle', 'sun',\n",
       "       'snow', 'drizzle', 'sun', 'snow', 'sun', 'sun', 'rain', 'sun',\n",
       "       'sun', 'snow', 'rain', 'fog', 'rain', 'snow', 'snow', 'snow',\n",
       "       'sun', 'drizzle', 'snow', 'fog', 'drizzle', 'sun', 'sun', 'rain',\n",
       "       'rain', 'drizzle', 'rain', 'drizzle', 'fog', 'drizzle', 'rain',\n",
       "       'sun', 'snow', 'snow', 'fog', 'snow', 'fog', 'snow', 'sun',\n",
       "       'drizzle', 'fog', 'fog', 'fog', 'fog', 'sun', 'fog', 'rain',\n",
       "       'drizzle', 'rain', 'rain', 'fog', 'snow', 'sun', 'fog', 'snow',\n",
       "       'sun', 'fog', 'drizzle', 'rain', 'fog', 'fog', 'rain', 'rain',\n",
       "       'drizzle', 'fog', 'snow', 'fog', 'snow', 'fog', 'snow', 'drizzle',\n",
       "       'drizzle', 'sun', 'sun', 'drizzle', 'snow', 'sun', 'sun', 'snow',\n",
       "       'sun', 'snow', 'rain', 'snow', 'fog', 'snow', 'snow', 'rain',\n",
       "       'snow', 'fog', 'sun', 'rain', 'snow', 'drizzle', 'rain', 'fog',\n",
       "       'fog', 'snow', 'sun', 'rain', 'drizzle', 'drizzle', 'rain',\n",
       "       'drizzle', 'drizzle', 'fog', 'drizzle', 'drizzle', 'sun', 'sun',\n",
       "       'fog', 'sun', 'drizzle', 'fog', 'rain', 'sun', 'rain', 'sun',\n",
       "       'snow', 'snow', 'rain', 'snow', 'fog', 'snow', 'drizzle', 'rain',\n",
       "       'rain', 'snow', 'sun', 'snow', 'drizzle', 'snow', 'drizzle',\n",
       "       'drizzle', 'fog', 'rain', 'sun', 'sun', 'sun', 'snow', 'snow',\n",
       "       'sun', 'rain', 'snow', 'snow', 'snow', 'rain', 'sun', 'fog',\n",
       "       'drizzle', 'drizzle', 'fog', 'rain', 'snow', 'snow', 'rain', 'sun',\n",
       "       'snow', 'rain', 'sun', 'rain', 'rain', 'snow', 'drizzle', 'fog',\n",
       "       'fog', 'fog', 'snow', 'sun', 'sun', 'rain', 'snow', 'fog', 'snow',\n",
       "       'sun', 'snow', 'sun', 'snow', 'fog', 'snow', 'drizzle', 'fog',\n",
       "       'drizzle', 'sun', 'sun', 'sun', 'rain', 'snow', 'snow', 'sun',\n",
       "       'snow', 'drizzle', 'rain', 'sun', 'snow', 'snow', 'snow', 'fog',\n",
       "       'rain', 'fog', 'rain', 'drizzle', 'fog', 'fog', 'fog', 'snow',\n",
       "       'snow', 'rain', 'rain', 'sun', 'drizzle', 'fog', 'fog', 'rain',\n",
       "       'drizzle', 'drizzle', 'drizzle', 'rain', 'fog', 'sun', 'snow',\n",
       "       'sun', 'fog', 'rain', 'snow', 'rain', 'drizzle', 'rain', 'rain',\n",
       "       'snow', 'snow', 'snow', 'drizzle', 'sun', 'fog', 'rain', 'drizzle',\n",
       "       'drizzle', 'fog', 'rain', 'fog', 'sun', 'rain', 'rain', 'drizzle',\n",
       "       'fog', 'fog', 'rain', 'snow', 'fog', 'snow', 'sun', 'drizzle',\n",
       "       'rain', 'drizzle', 'sun', 'snow', 'fog', 'sun', 'fog', 'rain',\n",
       "       'fog', 'rain', 'drizzle', 'rain', 'snow', 'fog', 'rain', 'snow',\n",
       "       'fog', 'rain', 'sun', 'rain', 'snow', 'snow', 'sun', 'drizzle',\n",
       "       'drizzle', 'fog', 'drizzle', 'fog', 'snow', 'fog', 'rain',\n",
       "       'drizzle', 'drizzle', 'fog', 'rain', 'sun', 'drizzle', 'drizzle',\n",
       "       'sun', 'sun', 'rain', 'sun', 'sun', 'fog', 'fog', 'rain', 'snow',\n",
       "       'drizzle', 'snow', 'snow', 'snow', 'drizzle', 'rain', 'fog', 'sun',\n",
       "       'drizzle', 'rain', 'drizzle', 'sun', 'snow', 'sun', 'fog',\n",
       "       'drizzle', 'snow', 'fog', 'drizzle', 'sun', 'drizzle', 'sun',\n",
       "       'fog', 'sun', 'fog', 'snow', 'fog', 'sun', 'rain', 'sun', 'snow',\n",
       "       'snow', 'drizzle', 'sun', 'fog', 'sun', 'rain', 'sun', 'fog',\n",
       "       'drizzle', 'snow', 'sun', 'snow', 'rain', 'fog', 'rain', 'snow',\n",
       "       'drizzle', 'sun', 'drizzle', 'fog', 'fog', 'drizzle', 'rain',\n",
       "       'sun', 'drizzle', 'fog', 'snow', 'rain', 'drizzle', 'sun', 'sun',\n",
       "       'snow', 'snow', 'sun', 'sun', 'drizzle', 'fog', 'fog', 'snow',\n",
       "       'snow', 'rain', 'fog', 'snow', 'rain', 'sun', 'rain', 'sun',\n",
       "       'drizzle', 'drizzle', 'drizzle', 'drizzle', 'rain', 'rain',\n",
       "       'drizzle', 'rain', 'sun', 'snow', 'drizzle', 'rain', 'drizzle',\n",
       "       'snow', 'snow', 'fog', 'fog', 'drizzle', 'snow', 'sun', 'snow',\n",
       "       'snow', 'snow', 'drizzle', 'snow', 'rain', 'fog', 'snow',\n",
       "       'drizzle', 'fog', 'sun', 'fog', 'sun', 'rain', 'fog', 'rain',\n",
       "       'sun', 'snow', 'drizzle', 'rain', 'snow', 'fog', 'snow', 'snow',\n",
       "       'fog', 'fog', 'drizzle', 'drizzle', 'snow', 'snow', 'fog',\n",
       "       'drizzle', 'drizzle', 'fog', 'fog', 'rain', 'rain', 'sun',\n",
       "       'drizzle', 'fog', 'drizzle', 'drizzle', 'fog', 'fog', 'snow',\n",
       "       'sun', 'snow', 'rain', 'fog', 'sun', 'sun', 'fog', 'sun', 'fog',\n",
       "       'rain', 'fog', 'rain', 'fog', 'fog', 'snow', 'snow', 'fog',\n",
       "       'drizzle', 'fog', 'snow', 'sun', 'fog', 'drizzle', 'rain', 'snow',\n",
       "       'drizzle', 'sun', 'sun', 'drizzle', 'fog', 'snow', 'snow', 'fog',\n",
       "       'drizzle', 'fog', 'fog', 'drizzle', 'fog', 'drizzle', 'fog', 'sun',\n",
       "       'rain', 'rain', 'rain', 'snow', 'drizzle', 'snow', 'drizzle',\n",
       "       'sun', 'snow', 'fog', 'rain', 'snow', 'fog', 'drizzle', 'sun',\n",
       "       'fog', 'sun', 'snow', 'rain', 'drizzle', 'rain', 'drizzle', 'rain',\n",
       "       'sun', 'fog', 'fog', 'sun', 'snow', 'sun', 'fog', 'fog', 'sun',\n",
       "       'fog', 'fog', 'snow', 'fog', 'snow', 'rain', 'rain', 'snow', 'sun',\n",
       "       'sun', 'sun', 'sun', 'rain', 'snow', 'fog', 'fog', 'drizzle',\n",
       "       'rain', 'rain', 'fog', 'snow', 'rain', 'sun', 'drizzle', 'sun',\n",
       "       'snow', 'snow', 'fog', 'rain', 'fog', 'fog', 'drizzle', 'drizzle',\n",
       "       'snow', 'snow', 'sun', 'rain', 'snow', 'fog', 'sun', 'drizzle',\n",
       "       'drizzle', 'drizzle', 'sun', 'sun', 'sun', 'sun', 'snow', 'sun',\n",
       "       'snow', 'drizzle', 'rain', 'fog', 'drizzle', 'rain', 'drizzle',\n",
       "       'snow', 'snow', 'rain', 'fog', 'rain', 'snow', 'sun', 'snow',\n",
       "       'snow', 'fog', 'drizzle', 'rain', 'rain', 'drizzle', 'sun', 'rain',\n",
       "       'drizzle', 'snow', 'fog', 'drizzle', 'snow', 'rain'], dtype=object)"
      ]
     },
     "execution_count": 36,
     "metadata": {},
     "output_type": "execute_result"
    }
   ],
   "source": [
    "y_predicted = model.predict(x_test)\n",
    "y_predicted "
   ]
  },
  {
   "cell_type": "code",
   "execution_count": 37,
   "id": "6302c6fd",
   "metadata": {},
   "outputs": [
    {
     "name": "stderr",
     "output_type": "stream",
     "text": [
      "G:\\Anaconda\\lib\\site-packages\\sklearn\\base.py:450: UserWarning: X does not have valid feature names, but RandomForestClassifier was fitted with feature names\n",
      "  warnings.warn(\n"
     ]
    },
    {
     "data": {
      "text/plain": [
       "array(['rain'], dtype=object)"
      ]
     },
     "execution_count": 37,
     "metadata": {},
     "output_type": "execute_result"
    }
   ],
   "source": [
    "model.predict([[0.8,11.7,7.2,2.3]])"
   ]
  },
  {
   "cell_type": "markdown",
   "id": "0df71b5b",
   "metadata": {},
   "source": [
    "### function to predict weather"
   ]
  },
  {
   "cell_type": "code",
   "execution_count": 58,
   "id": "34669c9c",
   "metadata": {},
   "outputs": [],
   "source": [
    "def predict_weather(precipitation,temp_max,temp_min,wind):    \n",
    "  \n",
    "\n",
    "    x = np.zeros(len(x_sm.columns))\n",
    "    x[0] = precipitation\n",
    "    x[1] = temp_max\n",
    "    x[2] = temp_min\n",
    "    x[3] = wind\n",
    "\n",
    "    return model.predict([x])[0]"
   ]
  },
  {
   "cell_type": "code",
   "execution_count": 59,
   "id": "84bd3701",
   "metadata": {},
   "outputs": [
    {
     "name": "stderr",
     "output_type": "stream",
     "text": [
      "G:\\Anaconda\\lib\\site-packages\\sklearn\\base.py:450: UserWarning: X does not have valid feature names, but RandomForestClassifier was fitted with feature names\n",
      "  warnings.warn(\n"
     ]
    },
    {
     "data": {
      "text/plain": [
       "'rain'"
      ]
     },
     "execution_count": 59,
     "metadata": {},
     "output_type": "execute_result"
    }
   ],
   "source": [
    "predict_weather(0.8,11.7,7.2,2.3)"
   ]
  },
  {
   "cell_type": "code",
   "execution_count": 60,
   "id": "e0983a57",
   "metadata": {},
   "outputs": [
    {
     "name": "stderr",
     "output_type": "stream",
     "text": [
      "G:\\Anaconda\\lib\\site-packages\\sklearn\\base.py:450: UserWarning: X does not have valid feature names, but RandomForestClassifier was fitted with feature names\n",
      "  warnings.warn(\n"
     ]
    },
    {
     "data": {
      "text/plain": [
       "'fog'"
      ]
     },
     "execution_count": 60,
     "metadata": {},
     "output_type": "execute_result"
    }
   ],
   "source": [
    "predict_weather(0.0,7.2,0.6,2.6)"
   ]
  },
  {
   "cell_type": "markdown",
   "id": "0110d5e8",
   "metadata": {},
   "source": [
    "### Confusion matrix"
   ]
  },
  {
   "cell_type": "code",
   "execution_count": 38,
   "id": "b7ef67b1",
   "metadata": {},
   "outputs": [],
   "source": [
    "import matplotlib.pyplot as plt\n",
    "import seaborn as sns\n",
    "from sklearn import metrics"
   ]
  },
  {
   "cell_type": "code",
   "execution_count": 39,
   "id": "e4ae041a",
   "metadata": {},
   "outputs": [
    {
     "data": {
      "text/plain": [
       "array([[151,  16,   1,   0,  10],\n",
       "       [ 11, 146,   0,   0,  20],\n",
       "       [  1,   2, 182,   2,  14],\n",
       "       [  0,   0,   1, 201,   0],\n",
       "       [ 19,  32,   1,   0, 143]], dtype=int64)"
      ]
     },
     "execution_count": 39,
     "metadata": {},
     "output_type": "execute_result"
    }
   ],
   "source": [
    "cm = metrics.confusion_matrix(y_test,y_predicted)\n",
    "cm"
   ]
  },
  {
   "cell_type": "markdown",
   "id": "e862d7f4",
   "metadata": {},
   "source": [
    "### Heatmap"
   ]
  },
  {
   "cell_type": "code",
   "execution_count": 40,
   "id": "80d35828",
   "metadata": {},
   "outputs": [
    {
     "data": {
      "text/plain": [
       "Text(0.5, 1.0, 'Accuracy score:0.863588667366212')"
      ]
     },
     "execution_count": 40,
     "metadata": {},
     "output_type": "execute_result"
    },
    {
     "data": {
      "image/png": "[encoded data removed]",
      "text/plain": [
       "<Figure size 360x360 with 2 Axes>"
      ]
     },
     "metadata": {
      "needs_background": "light"
     },
     "output_type": "display_data"
    }
   ],
   "source": [
    "score = model.score(x_test,y_test)\n",
    "plt.figure(figsize = (5,5))\n",
    "sns.heatmap(cm,annot = True,fmt = \".3f\",linewidth = .5, cmap = 'Reds')\n",
    "plt.ylabel('Actual values')\n",
    "plt.xlabel('Predicted values')\n",
    "topic = 'Accuracy score:{0}'.format(score)\n",
    "plt.title(topic,size = 15)"
   ]
  },
  {
   "cell_type": "markdown",
   "id": "5d30dc06",
   "metadata": {},
   "source": [
    "### Classification Report"
   ]
  },
  {
   "cell_type": "code",
   "execution_count": 41,
   "id": "76c5a3c9",
   "metadata": {},
   "outputs": [
    {
     "name": "stdout",
     "output_type": "stream",
     "text": [
      "              precision    recall  f1-score   support\n",
      "\n",
      "     drizzle       0.83      0.85      0.84       178\n",
      "         fog       0.74      0.82      0.78       177\n",
      "        rain       0.98      0.91      0.94       201\n",
      "        snow       0.99      1.00      0.99       202\n",
      "         sun       0.76      0.73      0.75       195\n",
      "\n",
      "    accuracy                           0.86       953\n",
      "   macro avg       0.86      0.86      0.86       953\n",
      "weighted avg       0.87      0.86      0.86       953\n",
      "\n"
     ]
    }
   ],
   "source": [
    "from sklearn.metrics import classification_report\n",
    "print(classification_report(y_test,y_predicted))"
   ]
  },
  {
   "cell_type": "markdown",
   "id": "77e1a206",
   "metadata": {},
   "source": [
    "### Other Measurements"
   ]
  },
  {
   "cell_type": "code",
   "execution_count": 42,
   "id": "5cc9c657",
   "metadata": {},
   "outputs": [],
   "source": [
    "from sklearn.metrics import confusion_matrix,accuracy_score,precision_score,recall_score,mean_squared_error"
   ]
  },
  {
   "cell_type": "code",
   "execution_count": 43,
   "id": "77c78dc3",
   "metadata": {},
   "outputs": [
    {
     "data": {
      "text/plain": [
       "0.863588667366212"
      ]
     },
     "execution_count": 43,
     "metadata": {},
     "output_type": "execute_result"
    }
   ],
   "source": [
    "#accuracy\n",
    "accuracy_score(y_test,y_predicted) \n",
    "#recall means sensitivity"
   ]
  },
  {
   "cell_type": "code",
   "execution_count": 44,
   "id": "0d241b2d",
   "metadata": {},
   "outputs": [
    {
     "data": {
      "text/plain": [
       "0.13641133263378802"
      ]
     },
     "execution_count": 44,
     "metadata": {},
     "output_type": "execute_result"
    }
   ],
   "source": [
    "#error rate\n",
    "1-accuracy_score(y_test,y_predicted)"
   ]
  },
  {
   "cell_type": "markdown",
   "id": "f33da510",
   "metadata": {},
   "source": [
    "### Export the tested model to a pickle file"
   ]
  },
  {
   "cell_type": "code",
   "execution_count": 46,
   "id": "c61d27cb",
   "metadata": {},
   "outputs": [],
   "source": [
    "import pickle\n",
    "with open('weather_prediction_model.pickle','wb') as f:\n",
    "    pickle.dump(model,f)\n",
    "    \n",
    "#wb used to insert binary data"
   ]
  },
  {
   "cell_type": "markdown",
   "id": "4e8cc155",
   "metadata": {},
   "source": [
    "### Export location and column information to a file that will be useful later on in our prediction application"
   ]
  },
  {
   "cell_type": "code",
   "execution_count": 61,
   "id": "5d308056",
   "metadata": {},
   "outputs": [],
   "source": [
    "#show column details\n",
    "import json\n",
    "columns = {\n",
    "    'data_columns' : [col.lower() for col in x_sm.columns]\n",
    "}\n",
    "with open(\"columns_weather.json\",\"w\") as f:\n",
    "    f.write(json.dumps(columns))"
   ]
  }
 ],
 "metadata": {
  "kernelspec": {
   "display_name": "Python 3",
   "language": "python",
   "name": "python3"
  },
  "language_info": {
   "codemirror_mode": {
    "name": "ipython",
    "version": 3
   },
   "file_extension": ".py",
   "mimetype": "text/x-python",
   "name": "python",
   "nbconvert_exporter": "python",
   "pygments_lexer": "ipython3",
   "version": "3.8.8"
  }
 },
 "nbformat": 4,
 "nbformat_minor": 5
}
